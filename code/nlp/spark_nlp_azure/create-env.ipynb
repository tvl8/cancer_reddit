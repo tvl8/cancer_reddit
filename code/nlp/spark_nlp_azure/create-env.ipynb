{
  "cells": [
    {
      "cell_type": "code",
      "source": [
        "from azure.ai.ml import MLClient, spark, Input, Output\n",
        "from azure.identity import DefaultAzureCredential\n",
        "from azure.ai.ml.entities import UserIdentityConfiguration\n",
        "\n",
        "## Use this authentication when running the control plane from the AzureML Compute Instance\n",
        "\n",
        "ml_client = MLClient.from_config(\n",
        "    DefaultAzureCredential(),\n",
        ")\n",
        "\n",
        "from azure.ai.ml.entities import Environment\n",
        "environment_object = Environment(\n",
        "    image=\"mcr.microsoft.com/azureml/openmpi4.1.0-ubuntu22.04\",\n",
        "    conda_file=\"sparknlp-environment.yml\",\n",
        "    name=\"sparknlp-python-env\"\n",
        ")\n",
        "ml_client.environments.create_or_update(environment_object)"
      ],
      "outputs": [
        {
          "output_type": "stream",
          "name": "stderr",
          "text": "Found the config file in: /config.json\n"
        },
        {
          "output_type": "execute_result",
          "execution_count": 1,
          "data": {
            "text/plain": "Environment({'arm_type': 'environment_version', 'latest_version': None, 'image': 'mcr.microsoft.com/azureml/openmpi4.1.0-ubuntu22.04', 'intellectual_property': None, 'is_anonymous': False, 'auto_increment_version': False, 'auto_delete_setting': None, 'name': 'sparknlp-python-env', 'description': None, 'tags': {}, 'properties': {'azureml.labels': 'latest'}, 'print_as_yaml': False, 'id': '/subscriptions/21ff0fc0-dd2c-450d-93b7-96eeb3699b22/resourceGroups/project-group-35/providers/Microsoft.MachineLearningServices/workspaces/project-group-35/environments/sparknlp-python-env/versions/1', 'Resource__source_path': '', 'base_path': '/mnt/batch/tasks/shared/LS_root/mounts/clusters/tvl8-ci01/code/Users/tvl8/fall-2024-project-team-35/spark_nlp_azure', 'creation_context': <azure.ai.ml.entities._system_data.SystemData object at 0x7f4c0af3d150>, 'serialize': <msrest.serialization.Serializer object at 0x7f4c0af2f0d0>, 'version': '1', 'conda_file': {'dependencies': ['python=3.10.3', {'pip': ['spark-nlp', 'nltk']}]}, 'build': None, 'inference_config': None, 'os_type': 'Linux', 'conda_file_path': None, 'path': None, 'datastore': None, 'upload_hash': None, 'translated_conda_file': '{\\n  \"dependencies\": [\\n    \"python=3.10.3\",\\n    {\\n      \"pip\": [\\n        \"spark-nlp\",\\n        \"nltk\"\\n      ]\\n    }\\n  ]\\n}'})"
          },
          "metadata": {}
        }
      ],
      "execution_count": 1,
      "metadata": {
        "gather": {
          "logged": 1732480087979
        }
      }
    }
  ],
  "metadata": {
    "kernelspec": {
      "name": "python310-sdkv2",
      "language": "python",
      "display_name": "Python 3.10 - SDK v2"
    },
    "language_info": {
      "name": "python",
      "version": "3.10.14",
      "mimetype": "text/x-python",
      "codemirror_mode": {
        "name": "ipython",
        "version": 3
      },
      "pygments_lexer": "ipython3",
      "nbconvert_exporter": "python",
      "file_extension": ".py"
    },
    "microsoft": {
      "ms_spell_check": {
        "ms_spell_check_language": "en"
      },
      "host": {
        "AzureML": {
          "notebookHasBeenCompleted": true
        }
      }
    },
    "kernel_info": {
      "name": "python310-sdkv2"
    },
    "nteract": {
      "version": "nteract-front-end@1.0.0"
    }
  },
  "nbformat": 4,
  "nbformat_minor": 2
}