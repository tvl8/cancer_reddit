{
  "cells": [
    {
      "cell_type": "code",
      "source": [
        "from pyspark.sql import SparkSession\n",
        "\n",
        "# Start Spark session\n",
        "spark = SparkSession.builder.appName(\"NaiveBayes_Example\").getOrCreate()\n",
        "\n",
        "workspace_default_storage_account = \"projectgstoragedfb938a3e\"\n",
        "workspace_default_container = \"azureml-blobstore-becc8696-e562-432e-af12-8a5e3e1f9b0f\"\n",
        "workspace_wasbs_base_url = f\"wasbs://{workspace_default_container}@{workspace_default_storage_account}.blob.core.windows.net/\"\n"
      ],
      "outputs": [
        {
          "output_type": "display_data",
          "data": {
            "application/vnd.livy.statement-meta+json": {
              "spark_pool": "ba5e360d-f184-47a0-9859-76b5031b79e3",
              "statement_id": 10,
              "statement_ids": [
                10
              ],
              "state": "finished",
              "livy_statement_state": "available",
              "spark_jobs": {
                "numbers": {
                  "RUNNING": 0,
                  "UNKNOWN": 0,
                  "SUCCEEDED": 0,
                  "FAILED": 0
                },
                "jobs": [],
                "limit": 20,
                "rule": "ALL_DESC"
              },
              "session_id": "65",
              "normalized_state": "finished",
              "queued_time": "2024-12-10T02:02:32.7822842Z",
              "session_start_time": null,
              "execution_start_time": "2024-12-10T02:02:32.9018685Z",
              "execution_finish_time": "2024-12-10T02:02:33.2508514Z",
              "parent_msg_id": "81b9a2e9-87bf-4356-b753-951d49de258b"
            },
            "text/plain": "StatementMeta(ba5e360d-f184-47a0-9859-76b5031b79e3, 65, 10, Finished, Available, Finished)"
          },
          "metadata": {}
        }
      ],
      "execution_count": 5,
      "metadata": {
        "jupyter": {
          "source_hidden": false,
          "outputs_hidden": false
        },
        "nteract": {
          "transient": {
            "deleting": false
          }
        },
        "gather": {
          "logged": 1733796153309
        }
      }
    },
    {
      "cell_type": "code",
      "source": [
        "from pyspark.sql.functions import lit\n",
        "\n",
        "cancer_path = f\"{workspace_wasbs_base_url}cancer_subreddit_sentiment.parquet\"\n",
        "cancer_df = spark.read.parquet(cancer_path)\n",
        "\n",
        "not_cancer_path = f\"{workspace_wasbs_base_url}not_cancer_subreddit_sentiment.parquet\"\n",
        "not_cancer = spark.read.parquet(not_cancer_path)\n",
        "\n",
        "cancer_df = cancer_df.withColumn(\"source\", lit(\"cancer\"))\n",
        "\n",
        "not_cancer = not_cancer.withColumn(\"source\", lit(\"non_cancer\"))\n",
        "\n",
        "combined_df = cancer_df.union(not_cancer)\n",
        "combined_df = combined_df.select('text', 'source')\n",
        "\n",
        "combined_df.show()\n",
        "\n"
      ],
      "outputs": [
        {
          "output_type": "display_data",
          "data": {
            "application/vnd.livy.statement-meta+json": {
              "spark_pool": "ba5e360d-f184-47a0-9859-76b5031b79e3",
              "statement_id": 11,
              "statement_ids": [
                11
              ],
              "state": "finished",
              "livy_statement_state": "available",
              "spark_jobs": {
                "numbers": {
                  "RUNNING": 0,
                  "UNKNOWN": 0,
                  "SUCCEEDED": 4,
                  "FAILED": 0
                },
                "jobs": [
                  {
                    "displayName": "showString at NativeMethodAccessorImpl.java:0",
                    "dataWritten": 0,
                    "dataRead": 2954586,
                    "rowCount": 8192,
                    "usageDescription": "",
                    "jobId": 35,
                    "name": "showString at NativeMethodAccessorImpl.java:0",
                    "description": "Job group for statement 11:\nfrom pyspark.sql.functions import lit\n\ncancer_path = f\"{workspace_wasbs_base_url}cancer_subreddit_sentiment.parquet\"\ncancer_df = spark.read.parquet(cancer_path)\n\nnot_cancer_path = f\"{workspace_wasbs_base_url}not_cancer_subreddit_sentiment.parquet\"\nnot_cancer = spark.read.parquet(not_cancer_path)\n\ncancer_df = cancer_df.withColumn(\"source\", lit(\"cancer\"))\n\nnot_cancer = not_cancer.withColumn(\"source\", lit(\"non_cancer\"))\n\ncombined_df = cancer_df.union(not_cancer)\ncombined_df = combined_df.select('text', 'source')\n\ncombined_df.show()\n\n",
                    "submissionTime": "2024-12-10T02:02:36.173GMT",
                    "completionTime": "2024-12-10T02:02:36.421GMT",
                    "stageIds": [
                      57
                    ],
                    "jobGroup": "11",
                    "status": "SUCCEEDED",
                    "numTasks": 4,
                    "numActiveTasks": 0,
                    "numCompletedTasks": 4,
                    "numSkippedTasks": 0,
                    "numFailedTasks": 0,
                    "numKilledTasks": 0,
                    "numCompletedIndices": 4,
                    "numActiveStages": 0,
                    "numCompletedStages": 1,
                    "numSkippedStages": 0,
                    "numFailedStages": 0,
                    "killedTasksSummary": {}
                  },
                  {
                    "displayName": "showString at NativeMethodAccessorImpl.java:0",
                    "dataWritten": 0,
                    "dataRead": 11254,
                    "rowCount": 0,
                    "usageDescription": "",
                    "jobId": 34,
                    "name": "showString at NativeMethodAccessorImpl.java:0",
                    "description": "Job group for statement 11:\nfrom pyspark.sql.functions import lit\n\ncancer_path = f\"{workspace_wasbs_base_url}cancer_subreddit_sentiment.parquet\"\ncancer_df = spark.read.parquet(cancer_path)\n\nnot_cancer_path = f\"{workspace_wasbs_base_url}not_cancer_subreddit_sentiment.parquet\"\nnot_cancer = spark.read.parquet(not_cancer_path)\n\ncancer_df = cancer_df.withColumn(\"source\", lit(\"cancer\"))\n\nnot_cancer = not_cancer.withColumn(\"source\", lit(\"non_cancer\"))\n\ncombined_df = cancer_df.union(not_cancer)\ncombined_df = combined_df.select('text', 'source')\n\ncombined_df.show()\n\n",
                    "submissionTime": "2024-12-10T02:02:36.023GMT",
                    "completionTime": "2024-12-10T02:02:36.166GMT",
                    "stageIds": [
                      56
                    ],
                    "jobGroup": "11",
                    "status": "SUCCEEDED",
                    "numTasks": 1,
                    "numActiveTasks": 0,
                    "numCompletedTasks": 1,
                    "numSkippedTasks": 0,
                    "numFailedTasks": 0,
                    "numKilledTasks": 0,
                    "numCompletedIndices": 1,
                    "numActiveStages": 0,
                    "numCompletedStages": 1,
                    "numSkippedStages": 0,
                    "numFailedStages": 0,
                    "killedTasksSummary": {}
                  },
                  {
                    "displayName": "parquet at NativeMethodAccessorImpl.java:0",
                    "dataWritten": 0,
                    "dataRead": 0,
                    "rowCount": 0,
                    "usageDescription": "",
                    "jobId": 33,
                    "name": "parquet at NativeMethodAccessorImpl.java:0",
                    "description": "Job group for statement 11:\nfrom pyspark.sql.functions import lit\n\ncancer_path = f\"{workspace_wasbs_base_url}cancer_subreddit_sentiment.parquet\"\ncancer_df = spark.read.parquet(cancer_path)\n\nnot_cancer_path = f\"{workspace_wasbs_base_url}not_cancer_subreddit_sentiment.parquet\"\nnot_cancer = spark.read.parquet(not_cancer_path)\n\ncancer_df = cancer_df.withColumn(\"source\", lit(\"cancer\"))\n\nnot_cancer = not_cancer.withColumn(\"source\", lit(\"non_cancer\"))\n\ncombined_df = cancer_df.union(not_cancer)\ncombined_df = combined_df.select('text', 'source')\n\ncombined_df.show()\n\n",
                    "submissionTime": "2024-12-10T02:02:35.707GMT",
                    "completionTime": "2024-12-10T02:02:35.807GMT",
                    "stageIds": [
                      55
                    ],
                    "jobGroup": "11",
                    "status": "SUCCEEDED",
                    "numTasks": 1,
                    "numActiveTasks": 0,
                    "numCompletedTasks": 1,
                    "numSkippedTasks": 0,
                    "numFailedTasks": 0,
                    "numKilledTasks": 0,
                    "numCompletedIndices": 1,
                    "numActiveStages": 0,
                    "numCompletedStages": 1,
                    "numSkippedStages": 0,
                    "numFailedStages": 0,
                    "killedTasksSummary": {}
                  },
                  {
                    "displayName": "parquet at NativeMethodAccessorImpl.java:0",
                    "dataWritten": 0,
                    "dataRead": 0,
                    "rowCount": 0,
                    "usageDescription": "",
                    "jobId": 32,
                    "name": "parquet at NativeMethodAccessorImpl.java:0",
                    "description": "Job group for statement 11:\nfrom pyspark.sql.functions import lit\n\ncancer_path = f\"{workspace_wasbs_base_url}cancer_subreddit_sentiment.parquet\"\ncancer_df = spark.read.parquet(cancer_path)\n\nnot_cancer_path = f\"{workspace_wasbs_base_url}not_cancer_subreddit_sentiment.parquet\"\nnot_cancer = spark.read.parquet(not_cancer_path)\n\ncancer_df = cancer_df.withColumn(\"source\", lit(\"cancer\"))\n\nnot_cancer = not_cancer.withColumn(\"source\", lit(\"non_cancer\"))\n\ncombined_df = cancer_df.union(not_cancer)\ncombined_df = combined_df.select('text', 'source')\n\ncombined_df.show()\n\n",
                    "submissionTime": "2024-12-10T02:02:35.294GMT",
                    "completionTime": "2024-12-10T02:02:35.556GMT",
                    "stageIds": [
                      54
                    ],
                    "jobGroup": "11",
                    "status": "SUCCEEDED",
                    "numTasks": 1,
                    "numActiveTasks": 0,
                    "numCompletedTasks": 1,
                    "numSkippedTasks": 0,
                    "numFailedTasks": 0,
                    "numKilledTasks": 0,
                    "numCompletedIndices": 1,
                    "numActiveStages": 0,
                    "numCompletedStages": 1,
                    "numSkippedStages": 0,
                    "numFailedStages": 0,
                    "killedTasksSummary": {}
                  }
                ],
                "limit": 20,
                "rule": "ALL_DESC"
              },
              "session_id": "65",
              "normalized_state": "finished",
              "queued_time": "2024-12-10T02:02:35.012888Z",
              "session_start_time": null,
              "execution_start_time": "2024-12-10T02:02:35.1366996Z",
              "execution_finish_time": "2024-12-10T02:02:36.7628139Z",
              "parent_msg_id": "2c677ec0-b641-4038-93df-addde9ca61c5"
            },
            "text/plain": "StatementMeta(ba5e360d-f184-47a0-9859-76b5031b79e3, 65, 11, Finished, Available, Finished)"
          },
          "metadata": {}
        },
        {
          "output_type": "stream",
          "name": "stdout",
          "text": "+--------------------+------+\n|                text|source|\n+--------------------+------+\n|Check out Northsi...|cancer|\n|I had something s...|cancer|\n|That's an insulti...|cancer|\n|Yeah sorry, it wa...|cancer|\n|I see my colorect...|cancer|\n|The couple of ran...|cancer|\n|I’ve encountered ...|cancer|\n|I 100% agree with...|cancer|\n|You should not ha...|cancer|\n|**Your post has b...|cancer|\n|Completely agree ...|cancer|\n|Butt's have oil s...|cancer|\n|I just found I ha...|cancer|\n|in the mid 2000s ...|cancer|\n|If you know all y...|cancer|\n|Ultimately, us nu...|cancer|\n|I had one the siz...|cancer|\n|yeah I see that n...|cancer|\n|This has been a r...|cancer|\n|Day to day is dif...|cancer|\n+--------------------+------+\nonly showing top 20 rows\n\n"
        }
      ],
      "execution_count": 6,
      "metadata": {
        "gather": {
          "logged": 1733796156834
        }
      }
    },
    {
      "cell_type": "code",
      "source": [
        "from pyspark.ml.feature import Tokenizer, StopWordsRemover, CountVectorizer, IDF, StringIndexer\n",
        "from pyspark.ml.classification import NaiveBayes, LogisticRegression\n",
        "from pyspark.ml.evaluation import MulticlassClassificationEvaluator, BinaryClassificationEvaluator\n",
        "from pyspark.ml import Pipeline\n",
        "\n",
        "# Tokenizer and stop words removal\n",
        "tokenizer = Tokenizer(inputCol=\"text\", outputCol=\"tokens\")\n",
        "stopwords_remover = StopWordsRemover(inputCol=\"tokens\", outputCol=\"filtered_tokens\")\n",
        "\n",
        "# Vectorization and TF-IDF\n",
        "count_vectorizer = CountVectorizer(inputCol=\"filtered_tokens\", outputCol=\"raw_features\")\n",
        "idf = IDF(inputCol=\"raw_features\", outputCol=\"features\")\n",
        "\n",
        "# Label encoding\n",
        "indexer = StringIndexer(inputCol=\"source\", outputCol=\"label\")\n",
        "\n",
        "# Build pipeline\n",
        "pipeline = Pipeline(stages=[tokenizer, stopwords_remover, count_vectorizer, idf, indexer])\n",
        "\n",
        "# Fit and transform\n",
        "processed_df = pipeline.fit(combined_df).transform(combined_df)\n",
        "\n",
        "# Build pipeline\n",
        "pipeline = Pipeline(stages=[tokenizer, stopwords_remover, count_vectorizer, idf, indexer])\n",
        "\n",
        "# Fit and transform\n",
        "processed_df = pipeline.fit(combined_df).transform(combined_df)\n",
        "\n",
        "# Split the data 80-20\n",
        "train_data, test_data = processed_df.randomSplit([0.8, 0.2], seed=42)\n",
        "\n",
        "# Train Naive Bayes model\n",
        "nb = NaiveBayes(featuresCol=\"features\", labelCol=\"label\", modelType=\"multinomial\")\n",
        "nb_model = nb.fit(train_data)\n",
        "\n",
        "# Predict\n",
        "predictions = nb_model.transform(test_data)\n",
        "\n",
        "# Evaluate\n",
        "evaluator = MulticlassClassificationEvaluator(labelCol=\"label\", predictionCol=\"prediction\", metricName=\"accuracy\")\n",
        "accuracy = evaluator.evaluate(predictions)\n",
        "\n",
        "print(f\"Test Accuracy: {accuracy:.2f}\")\n",
        "\n",
        "evaluator = MulticlassClassificationEvaluator()\n",
        "accuracy = evaluator.evaluate(predictions)\n",
        "\n",
        "print(f\"Test Accuracy: {accuracy:.3f}\")\n"
      ],
      "outputs": [
        {
          "output_type": "display_data",
          "data": {
            "application/vnd.livy.statement-meta+json": {
              "spark_pool": "ba5e360d-f184-47a0-9859-76b5031b79e3",
              "statement_id": 27,
              "statement_ids": [
                27
              ],
              "state": "finished",
              "livy_statement_state": "available",
              "spark_jobs": {
                "numbers": {
                  "RUNNING": 0,
                  "UNKNOWN": 0,
                  "SUCCEEDED": 14,
                  "FAILED": 0
                },
                "jobs": [
                  {
                    "displayName": "collectAsMap at MulticlassMetrics.scala:61",
                    "dataWritten": 244,
                    "dataRead": 2976957,
                    "rowCount": 20008,
                    "usageDescription": "",
                    "jobId": 223,
                    "name": "collectAsMap at MulticlassMetrics.scala:61",
                    "description": "Job group for statement 27:\nfrom pyspark.ml.feature import Tokenizer, StopWordsRemover, CountVectorizer, IDF, StringIndexer\nfrom pyspark.ml.classification import NaiveBayes, LogisticRegression\nfrom pyspark.ml.evaluation import MulticlassClassificationEvaluator, BinaryClassificationEvaluator\nfrom pyspark.ml import Pipeline\n\n# Tokenizer and stop words removal\ntokenizer = Tokenizer(inputCol=\"text\", outputCol=\"tokens\")\nstopwords_remover = StopWordsRemover(inputCol=\"tokens\", outputCol=\"filtered_tokens\")\n\n# Vectorization and TF-IDF\ncount_vectorizer = CountVectorizer(inputCol=\"filtered_tokens\", outputCol=\"raw_features\")\nidf = IDF(inputCol=\"raw_features\", outputCol=\"features\")\n\n# Label encoding\nindexer = StringIndexer(inputCol=\"source\", outputCol=\"label\")\n\n# Build pipeline\npipeline = Pipeline(stages=[tokenizer, stopwords_remover, count_vectorizer, idf, indexer])\n\n# Fit and transform\nprocessed_df = pipeline.fit(combined_df).transform(combined_df)\n\n# Build pipeline\npipeline = Pipeline(stages=[tokenizer, stopwords_remover, count_vectorizer, idf, i...",
                    "submissionTime": "2024-12-10T02:22:58.417GMT",
                    "completionTime": "2024-12-10T02:22:59.378GMT",
                    "stageIds": [
                      423,
                      424
                    ],
                    "jobGroup": "27",
                    "status": "SUCCEEDED",
                    "numTasks": 12,
                    "numActiveTasks": 0,
                    "numCompletedTasks": 12,
                    "numSkippedTasks": 0,
                    "numFailedTasks": 0,
                    "numKilledTasks": 0,
                    "numCompletedIndices": 12,
                    "numActiveStages": 0,
                    "numCompletedStages": 2,
                    "numSkippedStages": 0,
                    "numFailedStages": 0,
                    "killedTasksSummary": {}
                  },
                  {
                    "displayName": "collectAsMap at MulticlassMetrics.scala:61",
                    "dataWritten": 244,
                    "dataRead": 2976957,
                    "rowCount": 20008,
                    "usageDescription": "",
                    "jobId": 222,
                    "name": "collectAsMap at MulticlassMetrics.scala:61",
                    "description": "Job group for statement 27:\nfrom pyspark.ml.feature import Tokenizer, StopWordsRemover, CountVectorizer, IDF, StringIndexer\nfrom pyspark.ml.classification import NaiveBayes, LogisticRegression\nfrom pyspark.ml.evaluation import MulticlassClassificationEvaluator, BinaryClassificationEvaluator\nfrom pyspark.ml import Pipeline\n\n# Tokenizer and stop words removal\ntokenizer = Tokenizer(inputCol=\"text\", outputCol=\"tokens\")\nstopwords_remover = StopWordsRemover(inputCol=\"tokens\", outputCol=\"filtered_tokens\")\n\n# Vectorization and TF-IDF\ncount_vectorizer = CountVectorizer(inputCol=\"filtered_tokens\", outputCol=\"raw_features\")\nidf = IDF(inputCol=\"raw_features\", outputCol=\"features\")\n\n# Label encoding\nindexer = StringIndexer(inputCol=\"source\", outputCol=\"label\")\n\n# Build pipeline\npipeline = Pipeline(stages=[tokenizer, stopwords_remover, count_vectorizer, idf, indexer])\n\n# Fit and transform\nprocessed_df = pipeline.fit(combined_df).transform(combined_df)\n\n# Build pipeline\npipeline = Pipeline(stages=[tokenizer, stopwords_remover, count_vectorizer, idf, i...",
                    "submissionTime": "2024-12-10T02:22:57.200GMT",
                    "completionTime": "2024-12-10T02:22:58.165GMT",
                    "stageIds": [
                      422,
                      421
                    ],
                    "jobGroup": "27",
                    "status": "SUCCEEDED",
                    "numTasks": 12,
                    "numActiveTasks": 0,
                    "numCompletedTasks": 12,
                    "numSkippedTasks": 0,
                    "numFailedTasks": 0,
                    "numKilledTasks": 0,
                    "numCompletedIndices": 12,
                    "numActiveStages": 0,
                    "numCompletedStages": 2,
                    "numSkippedStages": 0,
                    "numFailedStages": 0,
                    "killedTasksSummary": {}
                  },
                  {
                    "displayName": "collect at NaiveBayes.scala:194",
                    "dataWritten": 0,
                    "dataRead": 490892,
                    "rowCount": 2,
                    "usageDescription": "",
                    "jobId": 221,
                    "name": "collect at NaiveBayes.scala:194",
                    "description": "Job group for statement 27:\nfrom pyspark.ml.feature import Tokenizer, StopWordsRemover, CountVectorizer, IDF, StringIndexer\nfrom pyspark.ml.classification import NaiveBayes, LogisticRegression\nfrom pyspark.ml.evaluation import MulticlassClassificationEvaluator, BinaryClassificationEvaluator\nfrom pyspark.ml import Pipeline\n\n# Tokenizer and stop words removal\ntokenizer = Tokenizer(inputCol=\"text\", outputCol=\"tokens\")\nstopwords_remover = StopWordsRemover(inputCol=\"tokens\", outputCol=\"filtered_tokens\")\n\n# Vectorization and TF-IDF\ncount_vectorizer = CountVectorizer(inputCol=\"filtered_tokens\", outputCol=\"raw_features\")\nidf = IDF(inputCol=\"raw_features\", outputCol=\"features\")\n\n# Label encoding\nindexer = StringIndexer(inputCol=\"source\", outputCol=\"label\")\n\n# Build pipeline\npipeline = Pipeline(stages=[tokenizer, stopwords_remover, count_vectorizer, idf, indexer])\n\n# Fit and transform\nprocessed_df = pipeline.fit(combined_df).transform(combined_df)\n\n# Build pipeline\npipeline = Pipeline(stages=[tokenizer, stopwords_remover, count_vectorizer, idf, i...",
                    "submissionTime": "2024-12-10T02:22:56.847GMT",
                    "completionTime": "2024-12-10T02:22:56.941GMT",
                    "stageIds": [
                      419,
                      420
                    ],
                    "jobGroup": "27",
                    "status": "SUCCEEDED",
                    "numTasks": 7,
                    "numActiveTasks": 0,
                    "numCompletedTasks": 1,
                    "numSkippedTasks": 6,
                    "numFailedTasks": 0,
                    "numKilledTasks": 0,
                    "numCompletedIndices": 1,
                    "numActiveStages": 0,
                    "numCompletedStages": 1,
                    "numSkippedStages": 1,
                    "numFailedStages": 0,
                    "killedTasksSummary": {}
                  },
                  {
                    "displayName": "collect at NaiveBayes.scala:194",
                    "dataWritten": 490892,
                    "dataRead": 2976713,
                    "rowCount": 20002,
                    "usageDescription": "",
                    "jobId": 220,
                    "name": "collect at NaiveBayes.scala:194",
                    "description": "Job group for statement 27:\nfrom pyspark.ml.feature import Tokenizer, StopWordsRemover, CountVectorizer, IDF, StringIndexer\nfrom pyspark.ml.classification import NaiveBayes, LogisticRegression\nfrom pyspark.ml.evaluation import MulticlassClassificationEvaluator, BinaryClassificationEvaluator\nfrom pyspark.ml import Pipeline\n\n# Tokenizer and stop words removal\ntokenizer = Tokenizer(inputCol=\"text\", outputCol=\"tokens\")\nstopwords_remover = StopWordsRemover(inputCol=\"tokens\", outputCol=\"filtered_tokens\")\n\n# Vectorization and TF-IDF\ncount_vectorizer = CountVectorizer(inputCol=\"filtered_tokens\", outputCol=\"raw_features\")\nidf = IDF(inputCol=\"raw_features\", outputCol=\"features\")\n\n# Label encoding\nindexer = StringIndexer(inputCol=\"source\", outputCol=\"label\")\n\n# Build pipeline\npipeline = Pipeline(stages=[tokenizer, stopwords_remover, count_vectorizer, idf, indexer])\n\n# Fit and transform\nprocessed_df = pipeline.fit(combined_df).transform(combined_df)\n\n# Build pipeline\npipeline = Pipeline(stages=[tokenizer, stopwords_remover, count_vectorizer, idf, i...",
                    "submissionTime": "2024-12-10T02:22:55.660GMT",
                    "completionTime": "2024-12-10T02:22:56.769GMT",
                    "stageIds": [
                      418
                    ],
                    "jobGroup": "27",
                    "status": "SUCCEEDED",
                    "numTasks": 6,
                    "numActiveTasks": 0,
                    "numCompletedTasks": 6,
                    "numSkippedTasks": 0,
                    "numFailedTasks": 0,
                    "numKilledTasks": 0,
                    "numCompletedIndices": 6,
                    "numActiveStages": 0,
                    "numCompletedStages": 1,
                    "numSkippedStages": 0,
                    "numFailedStages": 0,
                    "killedTasksSummary": {}
                  },
                  {
                    "displayName": "collect at StringIndexer.scala:204",
                    "dataWritten": 0,
                    "dataRead": 1772,
                    "rowCount": 6,
                    "usageDescription": "",
                    "jobId": 219,
                    "name": "collect at StringIndexer.scala:204",
                    "description": "Job group for statement 27:\nfrom pyspark.ml.feature import Tokenizer, StopWordsRemover, CountVectorizer, IDF, StringIndexer\nfrom pyspark.ml.classification import NaiveBayes, LogisticRegression\nfrom pyspark.ml.evaluation import MulticlassClassificationEvaluator, BinaryClassificationEvaluator\nfrom pyspark.ml import Pipeline\n\n# Tokenizer and stop words removal\ntokenizer = Tokenizer(inputCol=\"text\", outputCol=\"tokens\")\nstopwords_remover = StopWordsRemover(inputCol=\"tokens\", outputCol=\"filtered_tokens\")\n\n# Vectorization and TF-IDF\ncount_vectorizer = CountVectorizer(inputCol=\"filtered_tokens\", outputCol=\"raw_features\")\nidf = IDF(inputCol=\"raw_features\", outputCol=\"features\")\n\n# Label encoding\nindexer = StringIndexer(inputCol=\"source\", outputCol=\"label\")\n\n# Build pipeline\npipeline = Pipeline(stages=[tokenizer, stopwords_remover, count_vectorizer, idf, indexer])\n\n# Fit and transform\nprocessed_df = pipeline.fit(combined_df).transform(combined_df)\n\n# Build pipeline\npipeline = Pipeline(stages=[tokenizer, stopwords_remover, count_vectorizer, idf, i...",
                    "submissionTime": "2024-12-10T02:22:55.054GMT",
                    "completionTime": "2024-12-10T02:22:55.086GMT",
                    "stageIds": [
                      416,
                      417
                    ],
                    "jobGroup": "27",
                    "status": "SUCCEEDED",
                    "numTasks": 7,
                    "numActiveTasks": 0,
                    "numCompletedTasks": 1,
                    "numSkippedTasks": 6,
                    "numFailedTasks": 0,
                    "numKilledTasks": 0,
                    "numCompletedIndices": 1,
                    "numActiveStages": 0,
                    "numCompletedStages": 1,
                    "numSkippedStages": 1,
                    "numFailedStages": 0,
                    "killedTasksSummary": {}
                  },
                  {
                    "displayName": "collect at StringIndexer.scala:204",
                    "dataWritten": 1772,
                    "dataRead": 66381,
                    "rowCount": 20006,
                    "usageDescription": "",
                    "jobId": 218,
                    "name": "collect at StringIndexer.scala:204",
                    "description": "Job group for statement 27:\nfrom pyspark.ml.feature import Tokenizer, StopWordsRemover, CountVectorizer, IDF, StringIndexer\nfrom pyspark.ml.classification import NaiveBayes, LogisticRegression\nfrom pyspark.ml.evaluation import MulticlassClassificationEvaluator, BinaryClassificationEvaluator\nfrom pyspark.ml import Pipeline\n\n# Tokenizer and stop words removal\ntokenizer = Tokenizer(inputCol=\"text\", outputCol=\"tokens\")\nstopwords_remover = StopWordsRemover(inputCol=\"tokens\", outputCol=\"filtered_tokens\")\n\n# Vectorization and TF-IDF\ncount_vectorizer = CountVectorizer(inputCol=\"filtered_tokens\", outputCol=\"raw_features\")\nidf = IDF(inputCol=\"raw_features\", outputCol=\"features\")\n\n# Label encoding\nindexer = StringIndexer(inputCol=\"source\", outputCol=\"label\")\n\n# Build pipeline\npipeline = Pipeline(stages=[tokenizer, stopwords_remover, count_vectorizer, idf, indexer])\n\n# Fit and transform\nprocessed_df = pipeline.fit(combined_df).transform(combined_df)\n\n# Build pipeline\npipeline = Pipeline(stages=[tokenizer, stopwords_remover, count_vectorizer, idf, i...",
                    "submissionTime": "2024-12-10T02:22:54.838GMT",
                    "completionTime": "2024-12-10T02:22:55.027GMT",
                    "stageIds": [
                      415
                    ],
                    "jobGroup": "27",
                    "status": "SUCCEEDED",
                    "numTasks": 6,
                    "numActiveTasks": 0,
                    "numCompletedTasks": 6,
                    "numSkippedTasks": 0,
                    "numFailedTasks": 0,
                    "numKilledTasks": 0,
                    "numCompletedIndices": 6,
                    "numActiveStages": 0,
                    "numCompletedStages": 1,
                    "numSkippedStages": 0,
                    "numFailedStages": 0,
                    "killedTasksSummary": {}
                  },
                  {
                    "displayName": "treeAggregate at IDF.scala:55",
                    "dataWritten": 81874,
                    "dataRead": 3058587,
                    "rowCount": 20012,
                    "usageDescription": "",
                    "jobId": 217,
                    "name": "treeAggregate at IDF.scala:55",
                    "description": "Job group for statement 27:\nfrom pyspark.ml.feature import Tokenizer, StopWordsRemover, CountVectorizer, IDF, StringIndexer\nfrom pyspark.ml.classification import NaiveBayes, LogisticRegression\nfrom pyspark.ml.evaluation import MulticlassClassificationEvaluator, BinaryClassificationEvaluator\nfrom pyspark.ml import Pipeline\n\n# Tokenizer and stop words removal\ntokenizer = Tokenizer(inputCol=\"text\", outputCol=\"tokens\")\nstopwords_remover = StopWordsRemover(inputCol=\"tokens\", outputCol=\"filtered_tokens\")\n\n# Vectorization and TF-IDF\ncount_vectorizer = CountVectorizer(inputCol=\"filtered_tokens\", outputCol=\"raw_features\")\nidf = IDF(inputCol=\"raw_features\", outputCol=\"features\")\n\n# Label encoding\nindexer = StringIndexer(inputCol=\"source\", outputCol=\"label\")\n\n# Build pipeline\npipeline = Pipeline(stages=[tokenizer, stopwords_remover, count_vectorizer, idf, indexer])\n\n# Fit and transform\nprocessed_df = pipeline.fit(combined_df).transform(combined_df)\n\n# Build pipeline\npipeline = Pipeline(stages=[tokenizer, stopwords_remover, count_vectorizer, idf, i...",
                    "submissionTime": "2024-12-10T02:22:53.367GMT",
                    "completionTime": "2024-12-10T02:22:54.731GMT",
                    "stageIds": [
                      413,
                      414
                    ],
                    "jobGroup": "27",
                    "status": "SUCCEEDED",
                    "numTasks": 8,
                    "numActiveTasks": 0,
                    "numCompletedTasks": 8,
                    "numSkippedTasks": 0,
                    "numFailedTasks": 0,
                    "numKilledTasks": 0,
                    "numCompletedIndices": 8,
                    "numActiveStages": 0,
                    "numCompletedStages": 2,
                    "numSkippedStages": 0,
                    "numFailedStages": 0,
                    "killedTasksSummary": {}
                  },
                  {
                    "displayName": "top at CountVectorizer.scala:236",
                    "dataWritten": 0,
                    "dataRead": 6281824,
                    "rowCount": 69054,
                    "usageDescription": "",
                    "jobId": 216,
                    "name": "top at CountVectorizer.scala:236",
                    "description": "Job group for statement 27:\nfrom pyspark.ml.feature import Tokenizer, StopWordsRemover, CountVectorizer, IDF, StringIndexer\nfrom pyspark.ml.classification import NaiveBayes, LogisticRegression\nfrom pyspark.ml.evaluation import MulticlassClassificationEvaluator, BinaryClassificationEvaluator\nfrom pyspark.ml import Pipeline\n\n# Tokenizer and stop words removal\ntokenizer = Tokenizer(inputCol=\"text\", outputCol=\"tokens\")\nstopwords_remover = StopWordsRemover(inputCol=\"tokens\", outputCol=\"filtered_tokens\")\n\n# Vectorization and TF-IDF\ncount_vectorizer = CountVectorizer(inputCol=\"filtered_tokens\", outputCol=\"raw_features\")\nidf = IDF(inputCol=\"raw_features\", outputCol=\"features\")\n\n# Label encoding\nindexer = StringIndexer(inputCol=\"source\", outputCol=\"label\")\n\n# Build pipeline\npipeline = Pipeline(stages=[tokenizer, stopwords_remover, count_vectorizer, idf, indexer])\n\n# Fit and transform\nprocessed_df = pipeline.fit(combined_df).transform(combined_df)\n\n# Build pipeline\npipeline = Pipeline(stages=[tokenizer, stopwords_remover, count_vectorizer, idf, i...",
                    "submissionTime": "2024-12-10T02:22:52.808GMT",
                    "completionTime": "2024-12-10T02:22:52.852GMT",
                    "stageIds": [
                      411,
                      412
                    ],
                    "jobGroup": "27",
                    "status": "SUCCEEDED",
                    "numTasks": 12,
                    "numActiveTasks": 0,
                    "numCompletedTasks": 6,
                    "numSkippedTasks": 6,
                    "numFailedTasks": 0,
                    "numKilledTasks": 0,
                    "numCompletedIndices": 6,
                    "numActiveStages": 0,
                    "numCompletedStages": 1,
                    "numSkippedStages": 1,
                    "numFailedStages": 0,
                    "killedTasksSummary": {}
                  },
                  {
                    "displayName": "count at CountVectorizer.scala:233",
                    "dataWritten": 882205,
                    "dataRead": 3858918,
                    "rowCount": 183614,
                    "usageDescription": "",
                    "jobId": 215,
                    "name": "count at CountVectorizer.scala:233",
                    "description": "Job group for statement 27:\nfrom pyspark.ml.feature import Tokenizer, StopWordsRemover, CountVectorizer, IDF, StringIndexer\nfrom pyspark.ml.classification import NaiveBayes, LogisticRegression\nfrom pyspark.ml.evaluation import MulticlassClassificationEvaluator, BinaryClassificationEvaluator\nfrom pyspark.ml import Pipeline\n\n# Tokenizer and stop words removal\ntokenizer = Tokenizer(inputCol=\"text\", outputCol=\"tokens\")\nstopwords_remover = StopWordsRemover(inputCol=\"tokens\", outputCol=\"filtered_tokens\")\n\n# Vectorization and TF-IDF\ncount_vectorizer = CountVectorizer(inputCol=\"filtered_tokens\", outputCol=\"raw_features\")\nidf = IDF(inputCol=\"raw_features\", outputCol=\"features\")\n\n# Label encoding\nindexer = StringIndexer(inputCol=\"source\", outputCol=\"label\")\n\n# Build pipeline\npipeline = Pipeline(stages=[tokenizer, stopwords_remover, count_vectorizer, idf, indexer])\n\n# Fit and transform\nprocessed_df = pipeline.fit(combined_df).transform(combined_df)\n\n# Build pipeline\npipeline = Pipeline(stages=[tokenizer, stopwords_remover, count_vectorizer, idf, i...",
                    "submissionTime": "2024-12-10T02:22:51.782GMT",
                    "completionTime": "2024-12-10T02:22:52.792GMT",
                    "stageIds": [
                      409,
                      410
                    ],
                    "jobGroup": "27",
                    "status": "SUCCEEDED",
                    "numTasks": 12,
                    "numActiveTasks": 0,
                    "numCompletedTasks": 12,
                    "numSkippedTasks": 0,
                    "numFailedTasks": 0,
                    "numKilledTasks": 0,
                    "numCompletedIndices": 12,
                    "numActiveStages": 0,
                    "numCompletedStages": 2,
                    "numSkippedStages": 0,
                    "numFailedStages": 0,
                    "killedTasksSummary": {}
                  },
                  {
                    "displayName": "collect at StringIndexer.scala:204",
                    "dataWritten": 0,
                    "dataRead": 1772,
                    "rowCount": 6,
                    "usageDescription": "",
                    "jobId": 214,
                    "name": "collect at StringIndexer.scala:204",
                    "description": "Job group for statement 27:\nfrom pyspark.ml.feature import Tokenizer, StopWordsRemover, CountVectorizer, IDF, StringIndexer\nfrom pyspark.ml.classification import NaiveBayes, LogisticRegression\nfrom pyspark.ml.evaluation import MulticlassClassificationEvaluator, BinaryClassificationEvaluator\nfrom pyspark.ml import Pipeline\n\n# Tokenizer and stop words removal\ntokenizer = Tokenizer(inputCol=\"text\", outputCol=\"tokens\")\nstopwords_remover = StopWordsRemover(inputCol=\"tokens\", outputCol=\"filtered_tokens\")\n\n# Vectorization and TF-IDF\ncount_vectorizer = CountVectorizer(inputCol=\"filtered_tokens\", outputCol=\"raw_features\")\nidf = IDF(inputCol=\"raw_features\", outputCol=\"features\")\n\n# Label encoding\nindexer = StringIndexer(inputCol=\"source\", outputCol=\"label\")\n\n# Build pipeline\npipeline = Pipeline(stages=[tokenizer, stopwords_remover, count_vectorizer, idf, indexer])\n\n# Fit and transform\nprocessed_df = pipeline.fit(combined_df).transform(combined_df)\n\n# Build pipeline\npipeline = Pipeline(stages=[tokenizer, stopwords_remover, count_vectorizer, idf, i...",
                    "submissionTime": "2024-12-10T02:22:51.356GMT",
                    "completionTime": "2024-12-10T02:22:51.387GMT",
                    "stageIds": [
                      407,
                      408
                    ],
                    "jobGroup": "27",
                    "status": "SUCCEEDED",
                    "numTasks": 7,
                    "numActiveTasks": 0,
                    "numCompletedTasks": 1,
                    "numSkippedTasks": 6,
                    "numFailedTasks": 0,
                    "numKilledTasks": 0,
                    "numCompletedIndices": 1,
                    "numActiveStages": 0,
                    "numCompletedStages": 1,
                    "numSkippedStages": 1,
                    "numFailedStages": 0,
                    "killedTasksSummary": {}
                  },
                  {
                    "displayName": "collect at StringIndexer.scala:204",
                    "dataWritten": 1772,
                    "dataRead": 66381,
                    "rowCount": 20006,
                    "usageDescription": "",
                    "jobId": 213,
                    "name": "collect at StringIndexer.scala:204",
                    "description": "Job group for statement 27:\nfrom pyspark.ml.feature import Tokenizer, StopWordsRemover, CountVectorizer, IDF, StringIndexer\nfrom pyspark.ml.classification import NaiveBayes, LogisticRegression\nfrom pyspark.ml.evaluation import MulticlassClassificationEvaluator, BinaryClassificationEvaluator\nfrom pyspark.ml import Pipeline\n\n# Tokenizer and stop words removal\ntokenizer = Tokenizer(inputCol=\"text\", outputCol=\"tokens\")\nstopwords_remover = StopWordsRemover(inputCol=\"tokens\", outputCol=\"filtered_tokens\")\n\n# Vectorization and TF-IDF\ncount_vectorizer = CountVectorizer(inputCol=\"filtered_tokens\", outputCol=\"raw_features\")\nidf = IDF(inputCol=\"raw_features\", outputCol=\"features\")\n\n# Label encoding\nindexer = StringIndexer(inputCol=\"source\", outputCol=\"label\")\n\n# Build pipeline\npipeline = Pipeline(stages=[tokenizer, stopwords_remover, count_vectorizer, idf, indexer])\n\n# Fit and transform\nprocessed_df = pipeline.fit(combined_df).transform(combined_df)\n\n# Build pipeline\npipeline = Pipeline(stages=[tokenizer, stopwords_remover, count_vectorizer, idf, i...",
                    "submissionTime": "2024-12-10T02:22:51.178GMT",
                    "completionTime": "2024-12-10T02:22:51.335GMT",
                    "stageIds": [
                      406
                    ],
                    "jobGroup": "27",
                    "status": "SUCCEEDED",
                    "numTasks": 6,
                    "numActiveTasks": 0,
                    "numCompletedTasks": 6,
                    "numSkippedTasks": 0,
                    "numFailedTasks": 0,
                    "numKilledTasks": 0,
                    "numCompletedIndices": 6,
                    "numActiveStages": 0,
                    "numCompletedStages": 1,
                    "numSkippedStages": 0,
                    "numFailedStages": 0,
                    "killedTasksSummary": {}
                  },
                  {
                    "displayName": "treeAggregate at IDF.scala:55",
                    "dataWritten": 81544,
                    "dataRead": 3058257,
                    "rowCount": 20012,
                    "usageDescription": "",
                    "jobId": 212,
                    "name": "treeAggregate at IDF.scala:55",
                    "description": "Job group for statement 27:\nfrom pyspark.ml.feature import Tokenizer, StopWordsRemover, CountVectorizer, IDF, StringIndexer\nfrom pyspark.ml.classification import NaiveBayes, LogisticRegression\nfrom pyspark.ml.evaluation import MulticlassClassificationEvaluator, BinaryClassificationEvaluator\nfrom pyspark.ml import Pipeline\n\n# Tokenizer and stop words removal\ntokenizer = Tokenizer(inputCol=\"text\", outputCol=\"tokens\")\nstopwords_remover = StopWordsRemover(inputCol=\"tokens\", outputCol=\"filtered_tokens\")\n\n# Vectorization and TF-IDF\ncount_vectorizer = CountVectorizer(inputCol=\"filtered_tokens\", outputCol=\"raw_features\")\nidf = IDF(inputCol=\"raw_features\", outputCol=\"features\")\n\n# Label encoding\nindexer = StringIndexer(inputCol=\"source\", outputCol=\"label\")\n\n# Build pipeline\npipeline = Pipeline(stages=[tokenizer, stopwords_remover, count_vectorizer, idf, indexer])\n\n# Fit and transform\nprocessed_df = pipeline.fit(combined_df).transform(combined_df)\n\n# Build pipeline\npipeline = Pipeline(stages=[tokenizer, stopwords_remover, count_vectorizer, idf, i...",
                    "submissionTime": "2024-12-10T02:22:49.666GMT",
                    "completionTime": "2024-12-10T02:22:51.036GMT",
                    "stageIds": [
                      404,
                      405
                    ],
                    "jobGroup": "27",
                    "status": "SUCCEEDED",
                    "numTasks": 8,
                    "numActiveTasks": 0,
                    "numCompletedTasks": 8,
                    "numSkippedTasks": 0,
                    "numFailedTasks": 0,
                    "numKilledTasks": 0,
                    "numCompletedIndices": 8,
                    "numActiveStages": 0,
                    "numCompletedStages": 2,
                    "numSkippedStages": 0,
                    "numFailedStages": 0,
                    "killedTasksSummary": {}
                  },
                  {
                    "displayName": "top at CountVectorizer.scala:236",
                    "dataWritten": 0,
                    "dataRead": 6281824,
                    "rowCount": 69054,
                    "usageDescription": "",
                    "jobId": 211,
                    "name": "top at CountVectorizer.scala:236",
                    "description": "Job group for statement 27:\nfrom pyspark.ml.feature import Tokenizer, StopWordsRemover, CountVectorizer, IDF, StringIndexer\nfrom pyspark.ml.classification import NaiveBayes, LogisticRegression\nfrom pyspark.ml.evaluation import MulticlassClassificationEvaluator, BinaryClassificationEvaluator\nfrom pyspark.ml import Pipeline\n\n# Tokenizer and stop words removal\ntokenizer = Tokenizer(inputCol=\"text\", outputCol=\"tokens\")\nstopwords_remover = StopWordsRemover(inputCol=\"tokens\", outputCol=\"filtered_tokens\")\n\n# Vectorization and TF-IDF\ncount_vectorizer = CountVectorizer(inputCol=\"filtered_tokens\", outputCol=\"raw_features\")\nidf = IDF(inputCol=\"raw_features\", outputCol=\"features\")\n\n# Label encoding\nindexer = StringIndexer(inputCol=\"source\", outputCol=\"label\")\n\n# Build pipeline\npipeline = Pipeline(stages=[tokenizer, stopwords_remover, count_vectorizer, idf, indexer])\n\n# Fit and transform\nprocessed_df = pipeline.fit(combined_df).transform(combined_df)\n\n# Build pipeline\npipeline = Pipeline(stages=[tokenizer, stopwords_remover, count_vectorizer, idf, i...",
                    "submissionTime": "2024-12-10T02:22:49.043GMT",
                    "completionTime": "2024-12-10T02:22:49.111GMT",
                    "stageIds": [
                      402,
                      403
                    ],
                    "jobGroup": "27",
                    "status": "SUCCEEDED",
                    "numTasks": 12,
                    "numActiveTasks": 0,
                    "numCompletedTasks": 6,
                    "numSkippedTasks": 6,
                    "numFailedTasks": 0,
                    "numKilledTasks": 0,
                    "numCompletedIndices": 6,
                    "numActiveStages": 0,
                    "numCompletedStages": 1,
                    "numSkippedStages": 1,
                    "numFailedStages": 0,
                    "killedTasksSummary": {}
                  },
                  {
                    "displayName": "count at CountVectorizer.scala:233",
                    "dataWritten": 882205,
                    "dataRead": 3858918,
                    "rowCount": 183614,
                    "usageDescription": "",
                    "jobId": 210,
                    "name": "count at CountVectorizer.scala:233",
                    "description": "Job group for statement 27:\nfrom pyspark.ml.feature import Tokenizer, StopWordsRemover, CountVectorizer, IDF, StringIndexer\nfrom pyspark.ml.classification import NaiveBayes, LogisticRegression\nfrom pyspark.ml.evaluation import MulticlassClassificationEvaluator, BinaryClassificationEvaluator\nfrom pyspark.ml import Pipeline\n\n# Tokenizer and stop words removal\ntokenizer = Tokenizer(inputCol=\"text\", outputCol=\"tokens\")\nstopwords_remover = StopWordsRemover(inputCol=\"tokens\", outputCol=\"filtered_tokens\")\n\n# Vectorization and TF-IDF\ncount_vectorizer = CountVectorizer(inputCol=\"filtered_tokens\", outputCol=\"raw_features\")\nidf = IDF(inputCol=\"raw_features\", outputCol=\"features\")\n\n# Label encoding\nindexer = StringIndexer(inputCol=\"source\", outputCol=\"label\")\n\n# Build pipeline\npipeline = Pipeline(stages=[tokenizer, stopwords_remover, count_vectorizer, idf, indexer])\n\n# Fit and transform\nprocessed_df = pipeline.fit(combined_df).transform(combined_df)\n\n# Build pipeline\npipeline = Pipeline(stages=[tokenizer, stopwords_remover, count_vectorizer, idf, i...",
                    "submissionTime": "2024-12-10T02:22:48.045GMT",
                    "completionTime": "2024-12-10T02:22:49.032GMT",
                    "stageIds": [
                      401,
                      400
                    ],
                    "jobGroup": "27",
                    "status": "SUCCEEDED",
                    "numTasks": 12,
                    "numActiveTasks": 0,
                    "numCompletedTasks": 12,
                    "numSkippedTasks": 0,
                    "numFailedTasks": 0,
                    "numKilledTasks": 0,
                    "numCompletedIndices": 12,
                    "numActiveStages": 0,
                    "numCompletedStages": 2,
                    "numSkippedStages": 0,
                    "numFailedStages": 0,
                    "killedTasksSummary": {}
                  }
                ],
                "limit": 20,
                "rule": "ALL_DESC"
              },
              "session_id": "65",
              "normalized_state": "finished",
              "queued_time": "2024-12-10T02:22:47.7398656Z",
              "session_start_time": null,
              "execution_start_time": "2024-12-10T02:22:47.8518758Z",
              "execution_finish_time": "2024-12-10T02:23:00.2913209Z",
              "parent_msg_id": "47c00270-8513-4ba2-a7ce-3e9cc11c45c7"
            },
            "text/plain": "StatementMeta(ba5e360d-f184-47a0-9859-76b5031b79e3, 65, 27, Finished, Available, Finished)"
          },
          "metadata": {}
        },
        {
          "output_type": "stream",
          "name": "stdout",
          "text": "Test Accuracy: 0.78\nTest Accuracy: 0.775\n"
        }
      ],
      "execution_count": 22,
      "metadata": {
        "jupyter": {
          "source_hidden": false,
          "outputs_hidden": false
        },
        "nteract": {
          "transient": {
            "deleting": false
          }
        },
        "gather": {
          "logged": 1733797380393
        }
      }
    },
    {
      "cell_type": "code",
      "source": [
        "# Weighted Precision (Multiclass)\n",
        "evaluator_precision = MulticlassClassificationEvaluator(labelCol=\"label\", predictionCol=\"prediction\", metricName=\"weightedPrecision\")\n",
        "precision = evaluator_precision.evaluate(predictions)\n",
        "print(f\"Test Precision: {precision:.3f}\")\n",
        "\n",
        "# Weighted Recall (Multiclass)\n",
        "evaluator_recall = MulticlassClassificationEvaluator(labelCol=\"label\", predictionCol=\"prediction\", metricName=\"weightedRecall\")\n",
        "recall = evaluator_recall.evaluate(predictions)\n",
        "print(f\"Test Recall: {recall:.3f}\")\n",
        "\n",
        "# F1-Score (Multiclass)\n",
        "evaluator_f1 = MulticlassClassificationEvaluator(labelCol=\"label\", predictionCol=\"prediction\", metricName=\"f1\")\n",
        "f1_score = evaluator_f1.evaluate(predictions)\n",
        "print(f\"Test F1-Score: {f1_score:.3f}\")\n",
        "\n",
        "# AUC-ROC (For Binary Classification, works for binary classification)\n",
        "evaluator_auc = BinaryClassificationEvaluator(labelCol=\"label\", rawPredictionCol=\"prediction\", metricName=\"areaUnderROC\")\n",
        "auc_roc = evaluator_auc.evaluate(predictions)\n",
        "print(f\"Test AUC-ROC: {auc_roc:.3f}\")"
      ],
      "outputs": [
        {
          "output_type": "display_data",
          "data": {
            "application/vnd.livy.statement-meta+json": {
              "spark_pool": "ba5e360d-f184-47a0-9859-76b5031b79e3",
              "statement_id": 28,
              "statement_ids": [
                28
              ],
              "state": "finished",
              "livy_statement_state": "available",
              "spark_jobs": {
                "numbers": {
                  "RUNNING": 0,
                  "UNKNOWN": 0,
                  "SUCCEEDED": 7,
                  "FAILED": 0
                },
                "jobs": [
                  {
                    "displayName": "collect at AreaUnderCurve.scala:44",
                    "dataWritten": 0,
                    "dataRead": 250,
                    "rowCount": 2,
                    "usageDescription": "",
                    "jobId": 230,
                    "name": "collect at AreaUnderCurve.scala:44",
                    "description": "Job group for statement 28:\n# Weighted Precision (Multiclass)\nevaluator_precision = MulticlassClassificationEvaluator(labelCol=\"label\", predictionCol=\"prediction\", metricName=\"weightedPrecision\")\nprecision = evaluator_precision.evaluate(predictions)\nprint(f\"Test Precision: {precision:.3f}\")\n\n# Weighted Recall (Multiclass)\nevaluator_recall = MulticlassClassificationEvaluator(labelCol=\"label\", predictionCol=\"prediction\", metricName=\"weightedRecall\")\nrecall = evaluator_recall.evaluate(predictions)\nprint(f\"Test Recall: {recall:.3f}\")\n\n# F1-Score (Multiclass)\nevaluator_f1 = MulticlassClassificationEvaluator(labelCol=\"label\", predictionCol=\"prediction\", metricName=\"f1\")\nf1_score = evaluator_f1.evaluate(predictions)\nprint(f\"Test F1-Score: {f1_score:.3f}\")\n\n# AUC-ROC (For Binary Classification, works for binary classification)\nevaluator_auc = BinaryClassificationEvaluator(labelCol=\"label\", rawPredictionCol=\"prediction\", metricName=\"areaUnderROC\")\nauc_roc = evaluator_auc.evaluate(predictions)\nprint(f\"Test AUC-ROC: {auc_roc:.3f}\")",
                    "submissionTime": "2024-12-10T02:23:38.142GMT",
                    "completionTime": "2024-12-10T02:23:38.164GMT",
                    "stageIds": [
                      440,
                      441,
                      439
                    ],
                    "jobGroup": "28",
                    "status": "SUCCEEDED",
                    "numTasks": 14,
                    "numActiveTasks": 0,
                    "numCompletedTasks": 2,
                    "numSkippedTasks": 12,
                    "numFailedTasks": 0,
                    "numKilledTasks": 0,
                    "numCompletedIndices": 2,
                    "numActiveStages": 0,
                    "numCompletedStages": 1,
                    "numSkippedStages": 2,
                    "numFailedStages": 0,
                    "killedTasksSummary": {}
                  },
                  {
                    "displayName": "collect at BinaryClassificationMetrics.scala:237",
                    "dataWritten": 0,
                    "dataRead": 250,
                    "rowCount": 2,
                    "usageDescription": "",
                    "jobId": 229,
                    "name": "collect at BinaryClassificationMetrics.scala:237",
                    "description": "Job group for statement 28:\n# Weighted Precision (Multiclass)\nevaluator_precision = MulticlassClassificationEvaluator(labelCol=\"label\", predictionCol=\"prediction\", metricName=\"weightedPrecision\")\nprecision = evaluator_precision.evaluate(predictions)\nprint(f\"Test Precision: {precision:.3f}\")\n\n# Weighted Recall (Multiclass)\nevaluator_recall = MulticlassClassificationEvaluator(labelCol=\"label\", predictionCol=\"prediction\", metricName=\"weightedRecall\")\nrecall = evaluator_recall.evaluate(predictions)\nprint(f\"Test Recall: {recall:.3f}\")\n\n# F1-Score (Multiclass)\nevaluator_f1 = MulticlassClassificationEvaluator(labelCol=\"label\", predictionCol=\"prediction\", metricName=\"f1\")\nf1_score = evaluator_f1.evaluate(predictions)\nprint(f\"Test F1-Score: {f1_score:.3f}\")\n\n# AUC-ROC (For Binary Classification, works for binary classification)\nevaluator_auc = BinaryClassificationEvaluator(labelCol=\"label\", rawPredictionCol=\"prediction\", metricName=\"areaUnderROC\")\nauc_roc = evaluator_auc.evaluate(predictions)\nprint(f\"Test AUC-ROC: {auc_roc:.3f}\")",
                    "submissionTime": "2024-12-10T02:23:38.115GMT",
                    "completionTime": "2024-12-10T02:23:38.129GMT",
                    "stageIds": [
                      437,
                      438,
                      436
                    ],
                    "jobGroup": "28",
                    "status": "SUCCEEDED",
                    "numTasks": 14,
                    "numActiveTasks": 0,
                    "numCompletedTasks": 2,
                    "numSkippedTasks": 12,
                    "numFailedTasks": 0,
                    "numKilledTasks": 0,
                    "numCompletedIndices": 2,
                    "numActiveStages": 0,
                    "numCompletedStages": 1,
                    "numSkippedStages": 2,
                    "numFailedStages": 0,
                    "killedTasksSummary": {}
                  },
                  {
                    "displayName": "count at BinaryClassificationMetrics.scala:197",
                    "dataWritten": 250,
                    "dataRead": 524,
                    "rowCount": 8,
                    "usageDescription": "",
                    "jobId": 228,
                    "name": "count at BinaryClassificationMetrics.scala:197",
                    "description": "Job group for statement 28:\n# Weighted Precision (Multiclass)\nevaluator_precision = MulticlassClassificationEvaluator(labelCol=\"label\", predictionCol=\"prediction\", metricName=\"weightedPrecision\")\nprecision = evaluator_precision.evaluate(predictions)\nprint(f\"Test Precision: {precision:.3f}\")\n\n# Weighted Recall (Multiclass)\nevaluator_recall = MulticlassClassificationEvaluator(labelCol=\"label\", predictionCol=\"prediction\", metricName=\"weightedRecall\")\nrecall = evaluator_recall.evaluate(predictions)\nprint(f\"Test Recall: {recall:.3f}\")\n\n# F1-Score (Multiclass)\nevaluator_f1 = MulticlassClassificationEvaluator(labelCol=\"label\", predictionCol=\"prediction\", metricName=\"f1\")\nf1_score = evaluator_f1.evaluate(predictions)\nprint(f\"Test F1-Score: {f1_score:.3f}\")\n\n# AUC-ROC (For Binary Classification, works for binary classification)\nevaluator_auc = BinaryClassificationEvaluator(labelCol=\"label\", rawPredictionCol=\"prediction\", metricName=\"areaUnderROC\")\nauc_roc = evaluator_auc.evaluate(predictions)\nprint(f\"Test AUC-ROC: {auc_roc:.3f}\")",
                    "submissionTime": "2024-12-10T02:23:38.063GMT",
                    "completionTime": "2024-12-10T02:23:38.098GMT",
                    "stageIds": [
                      434,
                      435,
                      433
                    ],
                    "jobGroup": "28",
                    "status": "SUCCEEDED",
                    "numTasks": 14,
                    "numActiveTasks": 0,
                    "numCompletedTasks": 8,
                    "numSkippedTasks": 6,
                    "numFailedTasks": 0,
                    "numKilledTasks": 0,
                    "numCompletedIndices": 8,
                    "numActiveStages": 0,
                    "numCompletedStages": 2,
                    "numSkippedStages": 1,
                    "numFailedStages": 0,
                    "killedTasksSummary": {}
                  },
                  {
                    "displayName": "sortByKey at BinaryClassificationMetrics.scala:189",
                    "dataWritten": 274,
                    "dataRead": 2976987,
                    "rowCount": 20008,
                    "usageDescription": "",
                    "jobId": 227,
                    "name": "sortByKey at BinaryClassificationMetrics.scala:189",
                    "description": "Job group for statement 28:\n# Weighted Precision (Multiclass)\nevaluator_precision = MulticlassClassificationEvaluator(labelCol=\"label\", predictionCol=\"prediction\", metricName=\"weightedPrecision\")\nprecision = evaluator_precision.evaluate(predictions)\nprint(f\"Test Precision: {precision:.3f}\")\n\n# Weighted Recall (Multiclass)\nevaluator_recall = MulticlassClassificationEvaluator(labelCol=\"label\", predictionCol=\"prediction\", metricName=\"weightedRecall\")\nrecall = evaluator_recall.evaluate(predictions)\nprint(f\"Test Recall: {recall:.3f}\")\n\n# F1-Score (Multiclass)\nevaluator_f1 = MulticlassClassificationEvaluator(labelCol=\"label\", predictionCol=\"prediction\", metricName=\"f1\")\nf1_score = evaluator_f1.evaluate(predictions)\nprint(f\"Test F1-Score: {f1_score:.3f}\")\n\n# AUC-ROC (For Binary Classification, works for binary classification)\nevaluator_auc = BinaryClassificationEvaluator(labelCol=\"label\", rawPredictionCol=\"prediction\", metricName=\"areaUnderROC\")\nauc_roc = evaluator_auc.evaluate(predictions)\nprint(f\"Test AUC-ROC: {auc_roc:.3f}\")",
                    "submissionTime": "2024-12-10T02:23:37.141GMT",
                    "completionTime": "2024-12-10T02:23:38.053GMT",
                    "stageIds": [
                      431,
                      432
                    ],
                    "jobGroup": "28",
                    "status": "SUCCEEDED",
                    "numTasks": 12,
                    "numActiveTasks": 0,
                    "numCompletedTasks": 12,
                    "numSkippedTasks": 0,
                    "numFailedTasks": 0,
                    "numKilledTasks": 0,
                    "numCompletedIndices": 12,
                    "numActiveStages": 0,
                    "numCompletedStages": 2,
                    "numSkippedStages": 0,
                    "numFailedStages": 0,
                    "killedTasksSummary": {}
                  },
                  {
                    "displayName": "collectAsMap at MulticlassMetrics.scala:61",
                    "dataWritten": 244,
                    "dataRead": 2976957,
                    "rowCount": 20008,
                    "usageDescription": "",
                    "jobId": 226,
                    "name": "collectAsMap at MulticlassMetrics.scala:61",
                    "description": "Job group for statement 28:\n# Weighted Precision (Multiclass)\nevaluator_precision = MulticlassClassificationEvaluator(labelCol=\"label\", predictionCol=\"prediction\", metricName=\"weightedPrecision\")\nprecision = evaluator_precision.evaluate(predictions)\nprint(f\"Test Precision: {precision:.3f}\")\n\n# Weighted Recall (Multiclass)\nevaluator_recall = MulticlassClassificationEvaluator(labelCol=\"label\", predictionCol=\"prediction\", metricName=\"weightedRecall\")\nrecall = evaluator_recall.evaluate(predictions)\nprint(f\"Test Recall: {recall:.3f}\")\n\n# F1-Score (Multiclass)\nevaluator_f1 = MulticlassClassificationEvaluator(labelCol=\"label\", predictionCol=\"prediction\", metricName=\"f1\")\nf1_score = evaluator_f1.evaluate(predictions)\nprint(f\"Test F1-Score: {f1_score:.3f}\")\n\n# AUC-ROC (For Binary Classification, works for binary classification)\nevaluator_auc = BinaryClassificationEvaluator(labelCol=\"label\", rawPredictionCol=\"prediction\", metricName=\"areaUnderROC\")\nauc_roc = evaluator_auc.evaluate(predictions)\nprint(f\"Test AUC-ROC: {auc_roc:.3f}\")",
                    "submissionTime": "2024-12-10T02:23:36.007GMT",
                    "completionTime": "2024-12-10T02:23:36.948GMT",
                    "stageIds": [
                      430,
                      429
                    ],
                    "jobGroup": "28",
                    "status": "SUCCEEDED",
                    "numTasks": 12,
                    "numActiveTasks": 0,
                    "numCompletedTasks": 12,
                    "numSkippedTasks": 0,
                    "numFailedTasks": 0,
                    "numKilledTasks": 0,
                    "numCompletedIndices": 12,
                    "numActiveStages": 0,
                    "numCompletedStages": 2,
                    "numSkippedStages": 0,
                    "numFailedStages": 0,
                    "killedTasksSummary": {}
                  },
                  {
                    "displayName": "collectAsMap at MulticlassMetrics.scala:61",
                    "dataWritten": 244,
                    "dataRead": 2976957,
                    "rowCount": 20008,
                    "usageDescription": "",
                    "jobId": 225,
                    "name": "collectAsMap at MulticlassMetrics.scala:61",
                    "description": "Job group for statement 28:\n# Weighted Precision (Multiclass)\nevaluator_precision = MulticlassClassificationEvaluator(labelCol=\"label\", predictionCol=\"prediction\", metricName=\"weightedPrecision\")\nprecision = evaluator_precision.evaluate(predictions)\nprint(f\"Test Precision: {precision:.3f}\")\n\n# Weighted Recall (Multiclass)\nevaluator_recall = MulticlassClassificationEvaluator(labelCol=\"label\", predictionCol=\"prediction\", metricName=\"weightedRecall\")\nrecall = evaluator_recall.evaluate(predictions)\nprint(f\"Test Recall: {recall:.3f}\")\n\n# F1-Score (Multiclass)\nevaluator_f1 = MulticlassClassificationEvaluator(labelCol=\"label\", predictionCol=\"prediction\", metricName=\"f1\")\nf1_score = evaluator_f1.evaluate(predictions)\nprint(f\"Test F1-Score: {f1_score:.3f}\")\n\n# AUC-ROC (For Binary Classification, works for binary classification)\nevaluator_auc = BinaryClassificationEvaluator(labelCol=\"label\", rawPredictionCol=\"prediction\", metricName=\"areaUnderROC\")\nauc_roc = evaluator_auc.evaluate(predictions)\nprint(f\"Test AUC-ROC: {auc_roc:.3f}\")",
                    "submissionTime": "2024-12-10T02:23:34.846GMT",
                    "completionTime": "2024-12-10T02:23:35.798GMT",
                    "stageIds": [
                      427,
                      428
                    ],
                    "jobGroup": "28",
                    "status": "SUCCEEDED",
                    "numTasks": 12,
                    "numActiveTasks": 0,
                    "numCompletedTasks": 12,
                    "numSkippedTasks": 0,
                    "numFailedTasks": 0,
                    "numKilledTasks": 0,
                    "numCompletedIndices": 12,
                    "numActiveStages": 0,
                    "numCompletedStages": 2,
                    "numSkippedStages": 0,
                    "numFailedStages": 0,
                    "killedTasksSummary": {}
                  },
                  {
                    "displayName": "collectAsMap at MulticlassMetrics.scala:61",
                    "dataWritten": 244,
                    "dataRead": 2976957,
                    "rowCount": 20008,
                    "usageDescription": "",
                    "jobId": 224,
                    "name": "collectAsMap at MulticlassMetrics.scala:61",
                    "description": "Job group for statement 28:\n# Weighted Precision (Multiclass)\nevaluator_precision = MulticlassClassificationEvaluator(labelCol=\"label\", predictionCol=\"prediction\", metricName=\"weightedPrecision\")\nprecision = evaluator_precision.evaluate(predictions)\nprint(f\"Test Precision: {precision:.3f}\")\n\n# Weighted Recall (Multiclass)\nevaluator_recall = MulticlassClassificationEvaluator(labelCol=\"label\", predictionCol=\"prediction\", metricName=\"weightedRecall\")\nrecall = evaluator_recall.evaluate(predictions)\nprint(f\"Test Recall: {recall:.3f}\")\n\n# F1-Score (Multiclass)\nevaluator_f1 = MulticlassClassificationEvaluator(labelCol=\"label\", predictionCol=\"prediction\", metricName=\"f1\")\nf1_score = evaluator_f1.evaluate(predictions)\nprint(f\"Test F1-Score: {f1_score:.3f}\")\n\n# AUC-ROC (For Binary Classification, works for binary classification)\nevaluator_auc = BinaryClassificationEvaluator(labelCol=\"label\", rawPredictionCol=\"prediction\", metricName=\"areaUnderROC\")\nauc_roc = evaluator_auc.evaluate(predictions)\nprint(f\"Test AUC-ROC: {auc_roc:.3f}\")",
                    "submissionTime": "2024-12-10T02:23:33.626GMT",
                    "completionTime": "2024-12-10T02:23:34.641GMT",
                    "stageIds": [
                      425,
                      426
                    ],
                    "jobGroup": "28",
                    "status": "SUCCEEDED",
                    "numTasks": 12,
                    "numActiveTasks": 0,
                    "numCompletedTasks": 12,
                    "numSkippedTasks": 0,
                    "numFailedTasks": 0,
                    "numKilledTasks": 0,
                    "numCompletedIndices": 12,
                    "numActiveStages": 0,
                    "numCompletedStages": 2,
                    "numSkippedStages": 0,
                    "numFailedStages": 0,
                    "killedTasksSummary": {}
                  }
                ],
                "limit": 20,
                "rule": "ALL_DESC"
              },
              "session_id": "65",
              "normalized_state": "finished",
              "queued_time": "2024-12-10T02:23:33.31561Z",
              "session_start_time": null,
              "execution_start_time": "2024-12-10T02:23:33.4291634Z",
              "execution_finish_time": "2024-12-10T02:23:39.8981675Z",
              "parent_msg_id": "00b6746a-a65d-4736-8978-2a091ff257e4"
            },
            "text/plain": "StatementMeta(ba5e360d-f184-47a0-9859-76b5031b79e3, 65, 28, Finished, Available, Finished)"
          },
          "metadata": {}
        },
        {
          "output_type": "stream",
          "name": "stdout",
          "text": "Test Precision: 0.777\nTest Recall: 0.775\nTest F1-Score: 0.775\nTest AUC-ROC: 0.776\n"
        }
      ],
      "execution_count": 23,
      "metadata": {
        "jupyter": {
          "source_hidden": false,
          "outputs_hidden": false
        },
        "nteract": {
          "transient": {
            "deleting": false
          }
        },
        "gather": {
          "logged": 1733797419960
        }
      }
    },
    {
      "cell_type": "code",
      "source": [
        "import seaborn as sns\n",
        "import matplotlib.pyplot as plt\n",
        "import pandas as pd\n",
        "from matplotlib.colors import ListedColormap\n",
        "\n",
        "\n",
        "# Confusion Matrix (for Multiclass)\n",
        "# Create confusion matrix by grouping by label and prediction\n",
        "confusion_matrix = predictions.groupBy(\"label\", \"prediction\").count().toPandas()\n",
        "print(confusion_matrix)\n",
        "\n",
        "confusion_matrix['label'] = confusion_matrix['label'].replace({0: \"Cancer\", 1: \"Non-Cancer\"})\n",
        "confusion_matrix['prediction'] = confusion_matrix['prediction'].replace({0: \"Cancer\", 1: \"Non-Cancer\"})\n",
        "\n",
        "# Show the confusion matrix\n",
        "print(\"\\nConfusion Matrix:\")\n",
        "print(confusion_matrix)\n",
        "\n",
        "# Optionally, to display it as a matrix format:\n",
        "confusion_matrix_pivot = confusion_matrix.pivot(index=\"label\", columns=\"prediction\", values=\"count\").fillna(0)\n",
        "print(\"\\nConfusion Matrix (Pivoted):\")\n",
        "print(confusion_matrix_pivot)\n",
        "\n",
        "custom_colors = [\"#d40637\", \"#3d6469\"]\n",
        "cmap = ListedColormap(custom_colors)\n",
        "plt.figure(figsize=(8, 6))\n",
        "sns.heatmap(confusion_matrix_pivot, annot=True, fmt='g', cmap=cmap, cbar=True, linewidths=0.5)\n",
        "plt.title(\"Naive Bayes Confusion Matrix\")\n",
        "plt.xlabel(\"Predicted\")\n",
        "plt.ylabel(\"Actual\")\n",
        "plt.gcf().set_facecolor(\"#feeece\")  # Set figure background color\n",
        "plt.show()"
      ],
      "outputs": [
        {
          "output_type": "display_data",
          "data": {
            "application/vnd.livy.statement-meta+json": {
              "spark_pool": "ba5e360d-f184-47a0-9859-76b5031b79e3",
              "statement_id": 29,
              "statement_ids": [
                29
              ],
              "state": "finished",
              "livy_statement_state": "available",
              "spark_jobs": {
                "numbers": {
                  "RUNNING": 0,
                  "UNKNOWN": 0,
                  "SUCCEEDED": 2,
                  "FAILED": 0
                },
                "jobs": [
                  {
                    "displayName": "toPandas at /tmp/ipykernel_23753/1685798434.py:9",
                    "dataWritten": 0,
                    "dataRead": 252,
                    "rowCount": 4,
                    "usageDescription": "",
                    "jobId": 232,
                    "name": "toPandas at /tmp/ipykernel_23753/1685798434.py:9",
                    "description": "Job group for statement 29:\nimport seaborn as sns\nimport matplotlib.pyplot as plt\nimport pandas as pd\nfrom matplotlib.colors import ListedColormap\n\n\n# Confusion Matrix (for Multiclass)\n# Create confusion matrix by grouping by label and prediction\nconfusion_matrix = predictions.groupBy(\"label\", \"prediction\").count().toPandas()\nprint(confusion_matrix)\n\nconfusion_matrix['label'] = confusion_matrix['label'].replace({0: \"Cancer\", 1: \"Non-Cancer\"})\nconfusion_matrix['prediction'] = confusion_matrix['prediction'].replace({0: \"Cancer\", 1: \"Non-Cancer\"})\n\n# Show the confusion matrix\nprint(\"\nConfusion Matrix:\")\nprint(confusion_matrix)\n\n# Optionally, to display it as a matrix format:\nconfusion_matrix_pivot = confusion_matrix.pivot(index=\"label\", columns=\"prediction\", values=\"count\").fillna(0)\nprint(\"\nConfusion Matrix (Pivoted):\")\nprint(confusion_matrix_pivot)\n\ncustom_colors = [\"#d40637\", \"#3d6469\"]\ncmap = ListedColormap(custom_colors)\nplt.figure(figsize=(8, 6))\nsns.heatmap(confusion_matrix_pivot, annot=True, fmt='g', cmap=cmap, cbar=True, linewid...",
                    "submissionTime": "2024-12-10T02:23:41.237GMT",
                    "completionTime": "2024-12-10T02:23:41.334GMT",
                    "stageIds": [
                      444,
                      443
                    ],
                    "jobGroup": "29",
                    "status": "SUCCEEDED",
                    "numTasks": 7,
                    "numActiveTasks": 0,
                    "numCompletedTasks": 1,
                    "numSkippedTasks": 6,
                    "numFailedTasks": 0,
                    "numKilledTasks": 0,
                    "numCompletedIndices": 1,
                    "numActiveStages": 0,
                    "numCompletedStages": 1,
                    "numSkippedStages": 1,
                    "numFailedStages": 0,
                    "killedTasksSummary": {}
                  },
                  {
                    "displayName": "toPandas at /tmp/ipykernel_23753/1685798434.py:9",
                    "dataWritten": 252,
                    "dataRead": 2976713,
                    "rowCount": 20004,
                    "usageDescription": "",
                    "jobId": 231,
                    "name": "toPandas at /tmp/ipykernel_23753/1685798434.py:9",
                    "description": "Job group for statement 29:\nimport seaborn as sns\nimport matplotlib.pyplot as plt\nimport pandas as pd\nfrom matplotlib.colors import ListedColormap\n\n\n# Confusion Matrix (for Multiclass)\n# Create confusion matrix by grouping by label and prediction\nconfusion_matrix = predictions.groupBy(\"label\", \"prediction\").count().toPandas()\nprint(confusion_matrix)\n\nconfusion_matrix['label'] = confusion_matrix['label'].replace({0: \"Cancer\", 1: \"Non-Cancer\"})\nconfusion_matrix['prediction'] = confusion_matrix['prediction'].replace({0: \"Cancer\", 1: \"Non-Cancer\"})\n\n# Show the confusion matrix\nprint(\"\nConfusion Matrix:\")\nprint(confusion_matrix)\n\n# Optionally, to display it as a matrix format:\nconfusion_matrix_pivot = confusion_matrix.pivot(index=\"label\", columns=\"prediction\", values=\"count\").fillna(0)\nprint(\"\nConfusion Matrix (Pivoted):\")\nprint(confusion_matrix_pivot)\n\ncustom_colors = [\"#d40637\", \"#3d6469\"]\ncmap = ListedColormap(custom_colors)\nplt.figure(figsize=(8, 6))\nsns.heatmap(confusion_matrix_pivot, annot=True, fmt='g', cmap=cmap, cbar=True, linewid...",
                    "submissionTime": "2024-12-10T02:23:40.202GMT",
                    "completionTime": "2024-12-10T02:23:41.188GMT",
                    "stageIds": [
                      442
                    ],
                    "jobGroup": "29",
                    "status": "SUCCEEDED",
                    "numTasks": 6,
                    "numActiveTasks": 0,
                    "numCompletedTasks": 6,
                    "numSkippedTasks": 0,
                    "numFailedTasks": 0,
                    "numKilledTasks": 0,
                    "numCompletedIndices": 6,
                    "numActiveStages": 0,
                    "numCompletedStages": 1,
                    "numSkippedStages": 0,
                    "numFailedStages": 0,
                    "killedTasksSummary": {}
                  }
                ],
                "limit": 20,
                "rule": "ALL_DESC"
              },
              "session_id": "65",
              "normalized_state": "finished",
              "queued_time": "2024-12-10T02:23:38.0753575Z",
              "session_start_time": null,
              "execution_start_time": "2024-12-10T02:23:40.0165336Z",
              "execution_finish_time": "2024-12-10T02:23:42.50286Z",
              "parent_msg_id": "6cfeec21-fd2b-4000-bef8-48f9998ac402"
            },
            "text/plain": "StatementMeta(ba5e360d-f184-47a0-9859-76b5031b79e3, 65, 29, Finished, Available, Finished)"
          },
          "metadata": {}
        },
        {
          "output_type": "stream",
          "name": "stdout",
          "text": "   label  prediction  count\n0    1.0         1.0   1517\n1    1.0         0.0    501\n2    0.0         1.0    391\n3    0.0         0.0   1564\n\nConfusion Matrix:\n        label  prediction  count\n0  Non-Cancer  Non-Cancer   1517\n1  Non-Cancer      Cancer    501\n2      Cancer  Non-Cancer    391\n3      Cancer      Cancer   1564\n\nConfusion Matrix (Pivoted):\nprediction  Cancer  Non-Cancer\nlabel                         \nCancer        1564         391\nNon-Cancer     501        1517\n"
        },
        {
          "output_type": "display_data",
          "data": {
            "text/plain": "<Figure size 800x600 with 2 Axes>",
            "image/png": "[encoded data removed]"
          },
          "metadata": {}
        }
      ],
      "execution_count": 24,
      "metadata": {
        "jupyter": {
          "source_hidden": false,
          "outputs_hidden": false
        },
        "nteract": {
          "transient": {
            "deleting": false
          }
        },
        "gather": {
          "logged": 1733797422601
        }
      }
    },
    {
      "cell_type": "code",
      "source": [
        "\n",
        "\n",
        "# Split the data 80-20\n",
        "train_data, test_data = processed_df.randomSplit([0.8, 0.2], seed=42)\n",
        "\n",
        "# Train Logistic Regression model\n",
        "lr = LogisticRegression(featuresCol=\"features\", labelCol=\"label\")\n",
        "lr_model = lr.fit(train_data)\n",
        "\n",
        "# Predict\n",
        "predictions = lr_model.transform(test_data)\n",
        "\n",
        "# Evaluate\n",
        "evaluator = MulticlassClassificationEvaluator(labelCol=\"label\", predictionCol=\"prediction\", metricName=\"accuracy\")\n",
        "accuracy = evaluator.evaluate(predictions)\n",
        "\n",
        "print(f\"Test Accuracy: {accuracy:.3f}\")\n",
        "\n",
        "\n"
      ],
      "outputs": [
        {
          "output_type": "display_data",
          "data": {
            "application/vnd.livy.statement-meta+json": {
              "spark_pool": "ba5e360d-f184-47a0-9859-76b5031b79e3",
              "statement_id": 22,
              "statement_ids": [
                22
              ],
              "state": "finished",
              "livy_statement_state": "available",
              "spark_jobs": {
                "numbers": {
                  "RUNNING": 0,
                  "UNKNOWN": 0,
                  "SUCCEEDED": 107,
                  "FAILED": 0
                },
                "jobs": [
                  {
                    "displayName": "collectAsMap at MulticlassMetrics.scala:61",
                    "dataWritten": 244,
                    "dataRead": 2976957,
                    "rowCount": 20008,
                    "usageDescription": "",
                    "jobId": 196,
                    "name": "collectAsMap at MulticlassMetrics.scala:61",
                    "description": "Job group for statement 22:\n\n\n# Split the data 80-20\ntrain_data, test_data = processed_df.randomSplit([0.8, 0.2], seed=42)\n\n# Train Logistic Regression model\nlr = LogisticRegression(featuresCol=\"features\", labelCol=\"label\")\nlr_model = lr.fit(train_data)\n\n# Predict\npredictions = lr_model.transform(test_data)\n\n# Evaluate\nevaluator = MulticlassClassificationEvaluator(labelCol=\"label\", predictionCol=\"prediction\", metricName=\"accuracy\")\naccuracy = evaluator.evaluate(predictions)\n\nprint(f\"Test Accuracy: {accuracy:.3f}\")\n\n\n",
                    "submissionTime": "2024-12-10T02:17:22.462GMT",
                    "completionTime": "2024-12-10T02:17:23.578GMT",
                    "stageIds": [
                      372,
                      373
                    ],
                    "jobGroup": "22",
                    "status": "SUCCEEDED",
                    "numTasks": 12,
                    "numActiveTasks": 0,
                    "numCompletedTasks": 12,
                    "numSkippedTasks": 0,
                    "numFailedTasks": 0,
                    "numKilledTasks": 0,
                    "numCompletedIndices": 12,
                    "numActiveStages": 0,
                    "numCompletedStages": 2,
                    "numSkippedStages": 0,
                    "numFailedStages": 0,
                    "killedTasksSummary": {}
                  },
                  {
                    "displayName": "treeAggregate at RDDLossFunction.scala:61",
                    "dataWritten": 275904,
                    "dataRead": 4560280,
                    "rowCount": 17,
                    "usageDescription": "",
                    "jobId": 195,
                    "name": "treeAggregate at RDDLossFunction.scala:61",
                    "description": "Job group for statement 22:\n\n\n# Split the data 80-20\ntrain_data, test_data = processed_df.randomSplit([0.8, 0.2], seed=42)\n\n# Train Logistic Regression model\nlr = LogisticRegression(featuresCol=\"features\", labelCol=\"label\")\nlr_model = lr.fit(train_data)\n\n# Predict\npredictions = lr_model.transform(test_data)\n\n# Evaluate\nevaluator = MulticlassClassificationEvaluator(labelCol=\"label\", predictionCol=\"prediction\", metricName=\"accuracy\")\naccuracy = evaluator.evaluate(predictions)\n\nprint(f\"Test Accuracy: {accuracy:.3f}\")\n\n\n",
                    "submissionTime": "2024-12-10T02:17:21.392GMT",
                    "completionTime": "2024-12-10T02:17:21.601GMT",
                    "stageIds": [
                      371,
                      370
                    ],
                    "jobGroup": "22",
                    "status": "SUCCEEDED",
                    "numTasks": 8,
                    "numActiveTasks": 0,
                    "numCompletedTasks": 8,
                    "numSkippedTasks": 0,
                    "numFailedTasks": 0,
                    "numKilledTasks": 0,
                    "numCompletedIndices": 8,
                    "numActiveStages": 0,
                    "numCompletedStages": 2,
                    "numSkippedStages": 0,
                    "numFailedStages": 0,
                    "killedTasksSummary": {}
                  },
                  {
                    "displayName": "treeAggregate at RDDLossFunction.scala:61",
                    "dataWritten": 275708,
                    "dataRead": 4560084,
                    "rowCount": 17,
                    "usageDescription": "",
                    "jobId": 194,
                    "name": "treeAggregate at RDDLossFunction.scala:61",
                    "description": "Job group for statement 22:\n\n\n# Split the data 80-20\ntrain_data, test_data = processed_df.randomSplit([0.8, 0.2], seed=42)\n\n# Train Logistic Regression model\nlr = LogisticRegression(featuresCol=\"features\", labelCol=\"label\")\nlr_model = lr.fit(train_data)\n\n# Predict\npredictions = lr_model.transform(test_data)\n\n# Evaluate\nevaluator = MulticlassClassificationEvaluator(labelCol=\"label\", predictionCol=\"prediction\", metricName=\"accuracy\")\naccuracy = evaluator.evaluate(predictions)\n\nprint(f\"Test Accuracy: {accuracy:.3f}\")\n\n\n",
                    "submissionTime": "2024-12-10T02:17:21.118GMT",
                    "completionTime": "2024-12-10T02:17:21.335GMT",
                    "stageIds": [
                      368,
                      369
                    ],
                    "jobGroup": "22",
                    "status": "SUCCEEDED",
                    "numTasks": 8,
                    "numActiveTasks": 0,
                    "numCompletedTasks": 8,
                    "numSkippedTasks": 0,
                    "numFailedTasks": 0,
                    "numKilledTasks": 0,
                    "numCompletedIndices": 8,
                    "numActiveStages": 0,
                    "numCompletedStages": 2,
                    "numSkippedStages": 0,
                    "numFailedStages": 0,
                    "killedTasksSummary": {}
                  },
                  {
                    "displayName": "treeAggregate at RDDLossFunction.scala:61",
                    "dataWritten": 276557,
                    "dataRead": 4560933,
                    "rowCount": 17,
                    "usageDescription": "",
                    "jobId": 193,
                    "name": "treeAggregate at RDDLossFunction.scala:61",
                    "description": "Job group for statement 22:\n\n\n# Split the data 80-20\ntrain_data, test_data = processed_df.randomSplit([0.8, 0.2], seed=42)\n\n# Train Logistic Regression model\nlr = LogisticRegression(featuresCol=\"features\", labelCol=\"label\")\nlr_model = lr.fit(train_data)\n\n# Predict\npredictions = lr_model.transform(test_data)\n\n# Evaluate\nevaluator = MulticlassClassificationEvaluator(labelCol=\"label\", predictionCol=\"prediction\", metricName=\"accuracy\")\naccuracy = evaluator.evaluate(predictions)\n\nprint(f\"Test Accuracy: {accuracy:.3f}\")\n\n\n",
                    "submissionTime": "2024-12-10T02:17:20.840GMT",
                    "completionTime": "2024-12-10T02:17:21.059GMT",
                    "stageIds": [
                      366,
                      367
                    ],
                    "jobGroup": "22",
                    "status": "SUCCEEDED",
                    "numTasks": 8,
                    "numActiveTasks": 0,
                    "numCompletedTasks": 8,
                    "numSkippedTasks": 0,
                    "numFailedTasks": 0,
                    "numKilledTasks": 0,
                    "numCompletedIndices": 8,
                    "numActiveStages": 0,
                    "numCompletedStages": 2,
                    "numSkippedStages": 0,
                    "numFailedStages": 0,
                    "killedTasksSummary": {}
                  },
                  {
                    "displayName": "treeAggregate at RDDLossFunction.scala:61",
                    "dataWritten": 276746,
                    "dataRead": 4561122,
                    "rowCount": 17,
                    "usageDescription": "",
                    "jobId": 192,
                    "name": "treeAggregate at RDDLossFunction.scala:61",
                    "description": "Job group for statement 22:\n\n\n# Split the data 80-20\ntrain_data, test_data = processed_df.randomSplit([0.8, 0.2], seed=42)\n\n# Train Logistic Regression model\nlr = LogisticRegression(featuresCol=\"features\", labelCol=\"label\")\nlr_model = lr.fit(train_data)\n\n# Predict\npredictions = lr_model.transform(test_data)\n\n# Evaluate\nevaluator = MulticlassClassificationEvaluator(labelCol=\"label\", predictionCol=\"prediction\", metricName=\"accuracy\")\naccuracy = evaluator.evaluate(predictions)\n\nprint(f\"Test Accuracy: {accuracy:.3f}\")\n\n\n",
                    "submissionTime": "2024-12-10T02:17:20.526GMT",
                    "completionTime": "2024-12-10T02:17:20.734GMT",
                    "stageIds": [
                      365,
                      364
                    ],
                    "jobGroup": "22",
                    "status": "SUCCEEDED",
                    "numTasks": 8,
                    "numActiveTasks": 0,
                    "numCompletedTasks": 8,
                    "numSkippedTasks": 0,
                    "numFailedTasks": 0,
                    "numKilledTasks": 0,
                    "numCompletedIndices": 8,
                    "numActiveStages": 0,
                    "numCompletedStages": 2,
                    "numSkippedStages": 0,
                    "numFailedStages": 0,
                    "killedTasksSummary": {}
                  },
                  {
                    "displayName": "treeAggregate at RDDLossFunction.scala:61",
                    "dataWritten": 275963,
                    "dataRead": 4560339,
                    "rowCount": 17,
                    "usageDescription": "",
                    "jobId": 191,
                    "name": "treeAggregate at RDDLossFunction.scala:61",
                    "description": "Job group for statement 22:\n\n\n# Split the data 80-20\ntrain_data, test_data = processed_df.randomSplit([0.8, 0.2], seed=42)\n\n# Train Logistic Regression model\nlr = LogisticRegression(featuresCol=\"features\", labelCol=\"label\")\nlr_model = lr.fit(train_data)\n\n# Predict\npredictions = lr_model.transform(test_data)\n\n# Evaluate\nevaluator = MulticlassClassificationEvaluator(labelCol=\"label\", predictionCol=\"prediction\", metricName=\"accuracy\")\naccuracy = evaluator.evaluate(predictions)\n\nprint(f\"Test Accuracy: {accuracy:.3f}\")\n\n\n",
                    "submissionTime": "2024-12-10T02:17:20.292GMT",
                    "completionTime": "2024-12-10T02:17:20.478GMT",
                    "stageIds": [
                      362,
                      363
                    ],
                    "jobGroup": "22",
                    "status": "SUCCEEDED",
                    "numTasks": 8,
                    "numActiveTasks": 0,
                    "numCompletedTasks": 8,
                    "numSkippedTasks": 0,
                    "numFailedTasks": 0,
                    "numKilledTasks": 0,
                    "numCompletedIndices": 8,
                    "numActiveStages": 0,
                    "numCompletedStages": 2,
                    "numSkippedStages": 0,
                    "numFailedStages": 0,
                    "killedTasksSummary": {}
                  },
                  {
                    "displayName": "treeAggregate at RDDLossFunction.scala:61",
                    "dataWritten": 278094,
                    "dataRead": 4562470,
                    "rowCount": 17,
                    "usageDescription": "",
                    "jobId": 190,
                    "name": "treeAggregate at RDDLossFunction.scala:61",
                    "description": "Job group for statement 22:\n\n\n# Split the data 80-20\ntrain_data, test_data = processed_df.randomSplit([0.8, 0.2], seed=42)\n\n# Train Logistic Regression model\nlr = LogisticRegression(featuresCol=\"features\", labelCol=\"label\")\nlr_model = lr.fit(train_data)\n\n# Predict\npredictions = lr_model.transform(test_data)\n\n# Evaluate\nevaluator = MulticlassClassificationEvaluator(labelCol=\"label\", predictionCol=\"prediction\", metricName=\"accuracy\")\naccuracy = evaluator.evaluate(predictions)\n\nprint(f\"Test Accuracy: {accuracy:.3f}\")\n\n\n",
                    "submissionTime": "2024-12-10T02:17:20.025GMT",
                    "completionTime": "2024-12-10T02:17:20.236GMT",
                    "stageIds": [
                      361,
                      360
                    ],
                    "jobGroup": "22",
                    "status": "SUCCEEDED",
                    "numTasks": 8,
                    "numActiveTasks": 0,
                    "numCompletedTasks": 8,
                    "numSkippedTasks": 0,
                    "numFailedTasks": 0,
                    "numKilledTasks": 0,
                    "numCompletedIndices": 8,
                    "numActiveStages": 0,
                    "numCompletedStages": 2,
                    "numSkippedStages": 0,
                    "numFailedStages": 0,
                    "killedTasksSummary": {}
                  },
                  {
                    "displayName": "treeAggregate at RDDLossFunction.scala:61",
                    "dataWritten": 279454,
                    "dataRead": 4563830,
                    "rowCount": 17,
                    "usageDescription": "",
                    "jobId": 189,
                    "name": "treeAggregate at RDDLossFunction.scala:61",
                    "description": "Job group for statement 22:\n\n\n# Split the data 80-20\ntrain_data, test_data = processed_df.randomSplit([0.8, 0.2], seed=42)\n\n# Train Logistic Regression model\nlr = LogisticRegression(featuresCol=\"features\", labelCol=\"label\")\nlr_model = lr.fit(train_data)\n\n# Predict\npredictions = lr_model.transform(test_data)\n\n# Evaluate\nevaluator = MulticlassClassificationEvaluator(labelCol=\"label\", predictionCol=\"prediction\", metricName=\"accuracy\")\naccuracy = evaluator.evaluate(predictions)\n\nprint(f\"Test Accuracy: {accuracy:.3f}\")\n\n\n",
                    "submissionTime": "2024-12-10T02:17:19.736GMT",
                    "completionTime": "2024-12-10T02:17:19.969GMT",
                    "stageIds": [
                      358,
                      359
                    ],
                    "jobGroup": "22",
                    "status": "SUCCEEDED",
                    "numTasks": 8,
                    "numActiveTasks": 0,
                    "numCompletedTasks": 8,
                    "numSkippedTasks": 0,
                    "numFailedTasks": 0,
                    "numKilledTasks": 0,
                    "numCompletedIndices": 8,
                    "numActiveStages": 0,
                    "numCompletedStages": 2,
                    "numSkippedStages": 0,
                    "numFailedStages": 0,
                    "killedTasksSummary": {}
                  },
                  {
                    "displayName": "treeAggregate at RDDLossFunction.scala:61",
                    "dataWritten": 280064,
                    "dataRead": 4564440,
                    "rowCount": 17,
                    "usageDescription": "",
                    "jobId": 188,
                    "name": "treeAggregate at RDDLossFunction.scala:61",
                    "description": "Job group for statement 22:\n\n\n# Split the data 80-20\ntrain_data, test_data = processed_df.randomSplit([0.8, 0.2], seed=42)\n\n# Train Logistic Regression model\nlr = LogisticRegression(featuresCol=\"features\", labelCol=\"label\")\nlr_model = lr.fit(train_data)\n\n# Predict\npredictions = lr_model.transform(test_data)\n\n# Evaluate\nevaluator = MulticlassClassificationEvaluator(labelCol=\"label\", predictionCol=\"prediction\", metricName=\"accuracy\")\naccuracy = evaluator.evaluate(predictions)\n\nprint(f\"Test Accuracy: {accuracy:.3f}\")\n\n\n",
                    "submissionTime": "2024-12-10T02:17:19.505GMT",
                    "completionTime": "2024-12-10T02:17:19.683GMT",
                    "stageIds": [
                      356,
                      357
                    ],
                    "jobGroup": "22",
                    "status": "SUCCEEDED",
                    "numTasks": 8,
                    "numActiveTasks": 0,
                    "numCompletedTasks": 8,
                    "numSkippedTasks": 0,
                    "numFailedTasks": 0,
                    "numKilledTasks": 0,
                    "numCompletedIndices": 8,
                    "numActiveStages": 0,
                    "numCompletedStages": 2,
                    "numSkippedStages": 0,
                    "numFailedStages": 0,
                    "killedTasksSummary": {}
                  },
                  {
                    "displayName": "treeAggregate at RDDLossFunction.scala:61",
                    "dataWritten": 281094,
                    "dataRead": 4565470,
                    "rowCount": 17,
                    "usageDescription": "",
                    "jobId": 187,
                    "name": "treeAggregate at RDDLossFunction.scala:61",
                    "description": "Job group for statement 22:\n\n\n# Split the data 80-20\ntrain_data, test_data = processed_df.randomSplit([0.8, 0.2], seed=42)\n\n# Train Logistic Regression model\nlr = LogisticRegression(featuresCol=\"features\", labelCol=\"label\")\nlr_model = lr.fit(train_data)\n\n# Predict\npredictions = lr_model.transform(test_data)\n\n# Evaluate\nevaluator = MulticlassClassificationEvaluator(labelCol=\"label\", predictionCol=\"prediction\", metricName=\"accuracy\")\naccuracy = evaluator.evaluate(predictions)\n\nprint(f\"Test Accuracy: {accuracy:.3f}\")\n\n\n",
                    "submissionTime": "2024-12-10T02:17:19.223GMT",
                    "completionTime": "2024-12-10T02:17:19.453GMT",
                    "stageIds": [
                      354,
                      355
                    ],
                    "jobGroup": "22",
                    "status": "SUCCEEDED",
                    "numTasks": 8,
                    "numActiveTasks": 0,
                    "numCompletedTasks": 8,
                    "numSkippedTasks": 0,
                    "numFailedTasks": 0,
                    "numKilledTasks": 0,
                    "numCompletedIndices": 8,
                    "numActiveStages": 0,
                    "numCompletedStages": 2,
                    "numSkippedStages": 0,
                    "numFailedStages": 0,
                    "killedTasksSummary": {}
                  },
                  {
                    "displayName": "treeAggregate at RDDLossFunction.scala:61",
                    "dataWritten": 281003,
                    "dataRead": 4565379,
                    "rowCount": 17,
                    "usageDescription": "",
                    "jobId": 186,
                    "name": "treeAggregate at RDDLossFunction.scala:61",
                    "description": "Job group for statement 22:\n\n\n# Split the data 80-20\ntrain_data, test_data = processed_df.randomSplit([0.8, 0.2], seed=42)\n\n# Train Logistic Regression model\nlr = LogisticRegression(featuresCol=\"features\", labelCol=\"label\")\nlr_model = lr.fit(train_data)\n\n# Predict\npredictions = lr_model.transform(test_data)\n\n# Evaluate\nevaluator = MulticlassClassificationEvaluator(labelCol=\"label\", predictionCol=\"prediction\", metricName=\"accuracy\")\naccuracy = evaluator.evaluate(predictions)\n\nprint(f\"Test Accuracy: {accuracy:.3f}\")\n\n\n",
                    "submissionTime": "2024-12-10T02:17:18.953GMT",
                    "completionTime": "2024-12-10T02:17:19.167GMT",
                    "stageIds": [
                      353,
                      352
                    ],
                    "jobGroup": "22",
                    "status": "SUCCEEDED",
                    "numTasks": 8,
                    "numActiveTasks": 0,
                    "numCompletedTasks": 8,
                    "numSkippedTasks": 0,
                    "numFailedTasks": 0,
                    "numKilledTasks": 0,
                    "numCompletedIndices": 8,
                    "numActiveStages": 0,
                    "numCompletedStages": 2,
                    "numSkippedStages": 0,
                    "numFailedStages": 0,
                    "killedTasksSummary": {}
                  },
                  {
                    "displayName": "treeAggregate at RDDLossFunction.scala:61",
                    "dataWritten": 282169,
                    "dataRead": 4566545,
                    "rowCount": 17,
                    "usageDescription": "",
                    "jobId": 185,
                    "name": "treeAggregate at RDDLossFunction.scala:61",
                    "description": "Job group for statement 22:\n\n\n# Split the data 80-20\ntrain_data, test_data = processed_df.randomSplit([0.8, 0.2], seed=42)\n\n# Train Logistic Regression model\nlr = LogisticRegression(featuresCol=\"features\", labelCol=\"label\")\nlr_model = lr.fit(train_data)\n\n# Predict\npredictions = lr_model.transform(test_data)\n\n# Evaluate\nevaluator = MulticlassClassificationEvaluator(labelCol=\"label\", predictionCol=\"prediction\", metricName=\"accuracy\")\naccuracy = evaluator.evaluate(predictions)\n\nprint(f\"Test Accuracy: {accuracy:.3f}\")\n\n\n",
                    "submissionTime": "2024-12-10T02:17:18.637GMT",
                    "completionTime": "2024-12-10T02:17:18.894GMT",
                    "stageIds": [
                      350,
                      351
                    ],
                    "jobGroup": "22",
                    "status": "SUCCEEDED",
                    "numTasks": 8,
                    "numActiveTasks": 0,
                    "numCompletedTasks": 8,
                    "numSkippedTasks": 0,
                    "numFailedTasks": 0,
                    "numKilledTasks": 0,
                    "numCompletedIndices": 8,
                    "numActiveStages": 0,
                    "numCompletedStages": 2,
                    "numSkippedStages": 0,
                    "numFailedStages": 0,
                    "killedTasksSummary": {}
                  },
                  {
                    "displayName": "treeAggregate at RDDLossFunction.scala:61",
                    "dataWritten": 282111,
                    "dataRead": 4566487,
                    "rowCount": 17,
                    "usageDescription": "",
                    "jobId": 184,
                    "name": "treeAggregate at RDDLossFunction.scala:61",
                    "description": "Job group for statement 22:\n\n\n# Split the data 80-20\ntrain_data, test_data = processed_df.randomSplit([0.8, 0.2], seed=42)\n\n# Train Logistic Regression model\nlr = LogisticRegression(featuresCol=\"features\", labelCol=\"label\")\nlr_model = lr.fit(train_data)\n\n# Predict\npredictions = lr_model.transform(test_data)\n\n# Evaluate\nevaluator = MulticlassClassificationEvaluator(labelCol=\"label\", predictionCol=\"prediction\", metricName=\"accuracy\")\naccuracy = evaluator.evaluate(predictions)\n\nprint(f\"Test Accuracy: {accuracy:.3f}\")\n\n\n",
                    "submissionTime": "2024-12-10T02:17:18.289GMT",
                    "completionTime": "2024-12-10T02:17:18.578GMT",
                    "stageIds": [
                      348,
                      349
                    ],
                    "jobGroup": "22",
                    "status": "SUCCEEDED",
                    "numTasks": 8,
                    "numActiveTasks": 0,
                    "numCompletedTasks": 8,
                    "numSkippedTasks": 0,
                    "numFailedTasks": 0,
                    "numKilledTasks": 0,
                    "numCompletedIndices": 8,
                    "numActiveStages": 0,
                    "numCompletedStages": 2,
                    "numSkippedStages": 0,
                    "numFailedStages": 0,
                    "killedTasksSummary": {}
                  },
                  {
                    "displayName": "treeAggregate at RDDLossFunction.scala:61",
                    "dataWritten": 282107,
                    "dataRead": 4566483,
                    "rowCount": 17,
                    "usageDescription": "",
                    "jobId": 183,
                    "name": "treeAggregate at RDDLossFunction.scala:61",
                    "description": "Job group for statement 22:\n\n\n# Split the data 80-20\ntrain_data, test_data = processed_df.randomSplit([0.8, 0.2], seed=42)\n\n# Train Logistic Regression model\nlr = LogisticRegression(featuresCol=\"features\", labelCol=\"label\")\nlr_model = lr.fit(train_data)\n\n# Predict\npredictions = lr_model.transform(test_data)\n\n# Evaluate\nevaluator = MulticlassClassificationEvaluator(labelCol=\"label\", predictionCol=\"prediction\", metricName=\"accuracy\")\naccuracy = evaluator.evaluate(predictions)\n\nprint(f\"Test Accuracy: {accuracy:.3f}\")\n\n\n",
                    "submissionTime": "2024-12-10T02:17:17.947GMT",
                    "completionTime": "2024-12-10T02:17:18.230GMT",
                    "stageIds": [
                      347,
                      346
                    ],
                    "jobGroup": "22",
                    "status": "SUCCEEDED",
                    "numTasks": 8,
                    "numActiveTasks": 0,
                    "numCompletedTasks": 8,
                    "numSkippedTasks": 0,
                    "numFailedTasks": 0,
                    "numKilledTasks": 0,
                    "numCompletedIndices": 8,
                    "numActiveStages": 0,
                    "numCompletedStages": 2,
                    "numSkippedStages": 0,
                    "numFailedStages": 0,
                    "killedTasksSummary": {}
                  },
                  {
                    "displayName": "treeAggregate at RDDLossFunction.scala:61",
                    "dataWritten": 281843,
                    "dataRead": 4566219,
                    "rowCount": 17,
                    "usageDescription": "",
                    "jobId": 182,
                    "name": "treeAggregate at RDDLossFunction.scala:61",
                    "description": "Job group for statement 22:\n\n\n# Split the data 80-20\ntrain_data, test_data = processed_df.randomSplit([0.8, 0.2], seed=42)\n\n# Train Logistic Regression model\nlr = LogisticRegression(featuresCol=\"features\", labelCol=\"label\")\nlr_model = lr.fit(train_data)\n\n# Predict\npredictions = lr_model.transform(test_data)\n\n# Evaluate\nevaluator = MulticlassClassificationEvaluator(labelCol=\"label\", predictionCol=\"prediction\", metricName=\"accuracy\")\naccuracy = evaluator.evaluate(predictions)\n\nprint(f\"Test Accuracy: {accuracy:.3f}\")\n\n\n",
                    "submissionTime": "2024-12-10T02:17:17.622GMT",
                    "completionTime": "2024-12-10T02:17:17.829GMT",
                    "stageIds": [
                      344,
                      345
                    ],
                    "jobGroup": "22",
                    "status": "SUCCEEDED",
                    "numTasks": 8,
                    "numActiveTasks": 0,
                    "numCompletedTasks": 8,
                    "numSkippedTasks": 0,
                    "numFailedTasks": 0,
                    "numKilledTasks": 0,
                    "numCompletedIndices": 8,
                    "numActiveStages": 0,
                    "numCompletedStages": 2,
                    "numSkippedStages": 0,
                    "numFailedStages": 0,
                    "killedTasksSummary": {}
                  },
                  {
                    "displayName": "treeAggregate at RDDLossFunction.scala:61",
                    "dataWritten": 283864,
                    "dataRead": 4568240,
                    "rowCount": 17,
                    "usageDescription": "",
                    "jobId": 181,
                    "name": "treeAggregate at RDDLossFunction.scala:61",
                    "description": "Job group for statement 22:\n\n\n# Split the data 80-20\ntrain_data, test_data = processed_df.randomSplit([0.8, 0.2], seed=42)\n\n# Train Logistic Regression model\nlr = LogisticRegression(featuresCol=\"features\", labelCol=\"label\")\nlr_model = lr.fit(train_data)\n\n# Predict\npredictions = lr_model.transform(test_data)\n\n# Evaluate\nevaluator = MulticlassClassificationEvaluator(labelCol=\"label\", predictionCol=\"prediction\", metricName=\"accuracy\")\naccuracy = evaluator.evaluate(predictions)\n\nprint(f\"Test Accuracy: {accuracy:.3f}\")\n\n\n",
                    "submissionTime": "2024-12-10T02:17:17.358GMT",
                    "completionTime": "2024-12-10T02:17:17.560GMT",
                    "stageIds": [
                      342,
                      343
                    ],
                    "jobGroup": "22",
                    "status": "SUCCEEDED",
                    "numTasks": 8,
                    "numActiveTasks": 0,
                    "numCompletedTasks": 8,
                    "numSkippedTasks": 0,
                    "numFailedTasks": 0,
                    "numKilledTasks": 0,
                    "numCompletedIndices": 8,
                    "numActiveStages": 0,
                    "numCompletedStages": 2,
                    "numSkippedStages": 0,
                    "numFailedStages": 0,
                    "killedTasksSummary": {}
                  },
                  {
                    "displayName": "treeAggregate at RDDLossFunction.scala:61",
                    "dataWritten": 285766,
                    "dataRead": 4570142,
                    "rowCount": 17,
                    "usageDescription": "",
                    "jobId": 180,
                    "name": "treeAggregate at RDDLossFunction.scala:61",
                    "description": "Job group for statement 22:\n\n\n# Split the data 80-20\ntrain_data, test_data = processed_df.randomSplit([0.8, 0.2], seed=42)\n\n# Train Logistic Regression model\nlr = LogisticRegression(featuresCol=\"features\", labelCol=\"label\")\nlr_model = lr.fit(train_data)\n\n# Predict\npredictions = lr_model.transform(test_data)\n\n# Evaluate\nevaluator = MulticlassClassificationEvaluator(labelCol=\"label\", predictionCol=\"prediction\", metricName=\"accuracy\")\naccuracy = evaluator.evaluate(predictions)\n\nprint(f\"Test Accuracy: {accuracy:.3f}\")\n\n\n",
                    "submissionTime": "2024-12-10T02:17:16.999GMT",
                    "completionTime": "2024-12-10T02:17:17.262GMT",
                    "stageIds": [
                      340,
                      341
                    ],
                    "jobGroup": "22",
                    "status": "SUCCEEDED",
                    "numTasks": 8,
                    "numActiveTasks": 0,
                    "numCompletedTasks": 8,
                    "numSkippedTasks": 0,
                    "numFailedTasks": 0,
                    "numKilledTasks": 0,
                    "numCompletedIndices": 8,
                    "numActiveStages": 0,
                    "numCompletedStages": 2,
                    "numSkippedStages": 0,
                    "numFailedStages": 0,
                    "killedTasksSummary": {}
                  },
                  {
                    "displayName": "treeAggregate at RDDLossFunction.scala:61",
                    "dataWritten": 286846,
                    "dataRead": 4571222,
                    "rowCount": 17,
                    "usageDescription": "",
                    "jobId": 179,
                    "name": "treeAggregate at RDDLossFunction.scala:61",
                    "description": "Job group for statement 22:\n\n\n# Split the data 80-20\ntrain_data, test_data = processed_df.randomSplit([0.8, 0.2], seed=42)\n\n# Train Logistic Regression model\nlr = LogisticRegression(featuresCol=\"features\", labelCol=\"label\")\nlr_model = lr.fit(train_data)\n\n# Predict\npredictions = lr_model.transform(test_data)\n\n# Evaluate\nevaluator = MulticlassClassificationEvaluator(labelCol=\"label\", predictionCol=\"prediction\", metricName=\"accuracy\")\naccuracy = evaluator.evaluate(predictions)\n\nprint(f\"Test Accuracy: {accuracy:.3f}\")\n\n\n",
                    "submissionTime": "2024-12-10T02:17:16.755GMT",
                    "completionTime": "2024-12-10T02:17:16.945GMT",
                    "stageIds": [
                      338,
                      339
                    ],
                    "jobGroup": "22",
                    "status": "SUCCEEDED",
                    "numTasks": 8,
                    "numActiveTasks": 0,
                    "numCompletedTasks": 8,
                    "numSkippedTasks": 0,
                    "numFailedTasks": 0,
                    "numKilledTasks": 0,
                    "numCompletedIndices": 8,
                    "numActiveStages": 0,
                    "numCompletedStages": 2,
                    "numSkippedStages": 0,
                    "numFailedStages": 0,
                    "killedTasksSummary": {}
                  },
                  {
                    "displayName": "treeAggregate at RDDLossFunction.scala:61",
                    "dataWritten": 288038,
                    "dataRead": 4572414,
                    "rowCount": 17,
                    "usageDescription": "",
                    "jobId": 178,
                    "name": "treeAggregate at RDDLossFunction.scala:61",
                    "description": "Job group for statement 22:\n\n\n# Split the data 80-20\ntrain_data, test_data = processed_df.randomSplit([0.8, 0.2], seed=42)\n\n# Train Logistic Regression model\nlr = LogisticRegression(featuresCol=\"features\", labelCol=\"label\")\nlr_model = lr.fit(train_data)\n\n# Predict\npredictions = lr_model.transform(test_data)\n\n# Evaluate\nevaluator = MulticlassClassificationEvaluator(labelCol=\"label\", predictionCol=\"prediction\", metricName=\"accuracy\")\naccuracy = evaluator.evaluate(predictions)\n\nprint(f\"Test Accuracy: {accuracy:.3f}\")\n\n\n",
                    "submissionTime": "2024-12-10T02:17:16.512GMT",
                    "completionTime": "2024-12-10T02:17:16.696GMT",
                    "stageIds": [
                      336,
                      337
                    ],
                    "jobGroup": "22",
                    "status": "SUCCEEDED",
                    "numTasks": 8,
                    "numActiveTasks": 0,
                    "numCompletedTasks": 8,
                    "numSkippedTasks": 0,
                    "numFailedTasks": 0,
                    "numKilledTasks": 0,
                    "numCompletedIndices": 8,
                    "numActiveStages": 0,
                    "numCompletedStages": 2,
                    "numSkippedStages": 0,
                    "numFailedStages": 0,
                    "killedTasksSummary": {}
                  },
                  {
                    "displayName": "treeAggregate at RDDLossFunction.scala:61",
                    "dataWritten": 292096,
                    "dataRead": 4576472,
                    "rowCount": 17,
                    "usageDescription": "",
                    "jobId": 177,
                    "name": "treeAggregate at RDDLossFunction.scala:61",
                    "description": "Job group for statement 22:\n\n\n# Split the data 80-20\ntrain_data, test_data = processed_df.randomSplit([0.8, 0.2], seed=42)\n\n# Train Logistic Regression model\nlr = LogisticRegression(featuresCol=\"features\", labelCol=\"label\")\nlr_model = lr.fit(train_data)\n\n# Predict\npredictions = lr_model.transform(test_data)\n\n# Evaluate\nevaluator = MulticlassClassificationEvaluator(labelCol=\"label\", predictionCol=\"prediction\", metricName=\"accuracy\")\naccuracy = evaluator.evaluate(predictions)\n\nprint(f\"Test Accuracy: {accuracy:.3f}\")\n\n\n",
                    "submissionTime": "2024-12-10T02:17:16.235GMT",
                    "completionTime": "2024-12-10T02:17:16.453GMT",
                    "stageIds": [
                      335,
                      334
                    ],
                    "jobGroup": "22",
                    "status": "SUCCEEDED",
                    "numTasks": 8,
                    "numActiveTasks": 0,
                    "numCompletedTasks": 8,
                    "numSkippedTasks": 0,
                    "numFailedTasks": 0,
                    "numKilledTasks": 0,
                    "numCompletedIndices": 8,
                    "numActiveStages": 0,
                    "numCompletedStages": 2,
                    "numSkippedStages": 0,
                    "numFailedStages": 0,
                    "killedTasksSummary": {}
                  }
                ],
                "limit": 20,
                "rule": "ALL_DESC"
              },
              "session_id": "65",
              "normalized_state": "finished",
              "queued_time": "2024-12-10T02:16:46.3733324Z",
              "session_start_time": null,
              "execution_start_time": "2024-12-10T02:16:46.5043286Z",
              "execution_finish_time": "2024-12-10T02:17:25.5119279Z",
              "parent_msg_id": "3683578e-cd25-4b4b-90c5-d818b82a052d"
            },
            "text/plain": "StatementMeta(ba5e360d-f184-47a0-9859-76b5031b79e3, 65, 22, Finished, Available, Finished)"
          },
          "metadata": {}
        },
        {
          "output_type": "stream",
          "name": "stdout",
          "text": "Test Accuracy: 0.707\n"
        }
      ],
      "execution_count": 17,
      "metadata": {
        "jupyter": {
          "source_hidden": false,
          "outputs_hidden": false
        },
        "nteract": {
          "transient": {
            "deleting": false
          }
        },
        "gather": {
          "logged": 1733797045617
        }
      }
    },
    {
      "cell_type": "code",
      "source": [
        "# Weighted Precision (Multiclass)\n",
        "evaluator_precision = MulticlassClassificationEvaluator(labelCol=\"label\", predictionCol=\"prediction\", metricName=\"weightedPrecision\")\n",
        "precision = evaluator_precision.evaluate(predictions)\n",
        "print(f\"Test Precision: {precision:.3f}\")\n",
        "\n",
        "# Weighted Recall (Multiclass)\n",
        "evaluator_recall = MulticlassClassificationEvaluator(labelCol=\"label\", predictionCol=\"prediction\", metricName=\"weightedRecall\")\n",
        "recall = evaluator_recall.evaluate(predictions)\n",
        "print(f\"Test Recall: {recall:.3f}\")\n",
        "\n",
        "# F1-Score (Multiclass)\n",
        "evaluator_f1 = MulticlassClassificationEvaluator(labelCol=\"label\", predictionCol=\"prediction\", metricName=\"f1\")\n",
        "f1_score = evaluator_f1.evaluate(predictions)\n",
        "print(f\"Test F1-Score: {f1_score:.3f}\")\n",
        "\n",
        "# AUC-ROC (For Binary Classification, works for binary classification)\n",
        "evaluator_auc = BinaryClassificationEvaluator(labelCol=\"label\", rawPredictionCol=\"prediction\", metricName=\"areaUnderROC\")\n",
        "auc_roc = evaluator_auc.evaluate(predictions)\n",
        "print(f\"Test AUC-ROC: {auc_roc:.3f}\")"
      ],
      "outputs": [
        {
          "output_type": "display_data",
          "data": {
            "application/vnd.livy.statement-meta+json": {
              "spark_pool": "ba5e360d-f184-47a0-9859-76b5031b79e3",
              "statement_id": 23,
              "statement_ids": [
                23
              ],
              "state": "finished",
              "livy_statement_state": "available",
              "spark_jobs": {
                "numbers": {
                  "RUNNING": 0,
                  "UNKNOWN": 0,
                  "SUCCEEDED": 7,
                  "FAILED": 0
                },
                "jobs": [
                  {
                    "displayName": "collect at AreaUnderCurve.scala:44",
                    "dataWritten": 0,
                    "dataRead": 250,
                    "rowCount": 2,
                    "usageDescription": "",
                    "jobId": 203,
                    "name": "collect at AreaUnderCurve.scala:44",
                    "description": "Job group for statement 23:\n# Weighted Precision (Multiclass)\nevaluator_precision = MulticlassClassificationEvaluator(labelCol=\"label\", predictionCol=\"prediction\", metricName=\"weightedPrecision\")\nprecision = evaluator_precision.evaluate(predictions)\nprint(f\"Test Precision: {precision:.3f}\")\n\n# Weighted Recall (Multiclass)\nevaluator_recall = MulticlassClassificationEvaluator(labelCol=\"label\", predictionCol=\"prediction\", metricName=\"weightedRecall\")\nrecall = evaluator_recall.evaluate(predictions)\nprint(f\"Test Recall: {recall:.3f}\")\n\n# F1-Score (Multiclass)\nevaluator_f1 = MulticlassClassificationEvaluator(labelCol=\"label\", predictionCol=\"prediction\", metricName=\"f1\")\nf1_score = evaluator_f1.evaluate(predictions)\nprint(f\"Test F1-Score: {f1_score:.3f}\")\n\n# AUC-ROC (For Binary Classification, works for binary classification)\nevaluator_auc = BinaryClassificationEvaluator(labelCol=\"label\", rawPredictionCol=\"prediction\", metricName=\"areaUnderROC\")\nauc_roc = evaluator_auc.evaluate(predictions)\nprint(f\"Test AUC-ROC: {auc_roc:.3f}\")",
                    "submissionTime": "2024-12-10T02:17:32.504GMT",
                    "completionTime": "2024-12-10T02:17:32.529GMT",
                    "stageIds": [
                      389,
                      390,
                      388
                    ],
                    "jobGroup": "23",
                    "status": "SUCCEEDED",
                    "numTasks": 14,
                    "numActiveTasks": 0,
                    "numCompletedTasks": 2,
                    "numSkippedTasks": 12,
                    "numFailedTasks": 0,
                    "numKilledTasks": 0,
                    "numCompletedIndices": 2,
                    "numActiveStages": 0,
                    "numCompletedStages": 1,
                    "numSkippedStages": 2,
                    "numFailedStages": 0,
                    "killedTasksSummary": {}
                  },
                  {
                    "displayName": "collect at BinaryClassificationMetrics.scala:237",
                    "dataWritten": 0,
                    "dataRead": 250,
                    "rowCount": 2,
                    "usageDescription": "",
                    "jobId": 202,
                    "name": "collect at BinaryClassificationMetrics.scala:237",
                    "description": "Job group for statement 23:\n# Weighted Precision (Multiclass)\nevaluator_precision = MulticlassClassificationEvaluator(labelCol=\"label\", predictionCol=\"prediction\", metricName=\"weightedPrecision\")\nprecision = evaluator_precision.evaluate(predictions)\nprint(f\"Test Precision: {precision:.3f}\")\n\n# Weighted Recall (Multiclass)\nevaluator_recall = MulticlassClassificationEvaluator(labelCol=\"label\", predictionCol=\"prediction\", metricName=\"weightedRecall\")\nrecall = evaluator_recall.evaluate(predictions)\nprint(f\"Test Recall: {recall:.3f}\")\n\n# F1-Score (Multiclass)\nevaluator_f1 = MulticlassClassificationEvaluator(labelCol=\"label\", predictionCol=\"prediction\", metricName=\"f1\")\nf1_score = evaluator_f1.evaluate(predictions)\nprint(f\"Test F1-Score: {f1_score:.3f}\")\n\n# AUC-ROC (For Binary Classification, works for binary classification)\nevaluator_auc = BinaryClassificationEvaluator(labelCol=\"label\", rawPredictionCol=\"prediction\", metricName=\"areaUnderROC\")\nauc_roc = evaluator_auc.evaluate(predictions)\nprint(f\"Test AUC-ROC: {auc_roc:.3f}\")",
                    "submissionTime": "2024-12-10T02:17:32.473GMT",
                    "completionTime": "2024-12-10T02:17:32.489GMT",
                    "stageIds": [
                      386,
                      387,
                      385
                    ],
                    "jobGroup": "23",
                    "status": "SUCCEEDED",
                    "numTasks": 14,
                    "numActiveTasks": 0,
                    "numCompletedTasks": 2,
                    "numSkippedTasks": 12,
                    "numFailedTasks": 0,
                    "numKilledTasks": 0,
                    "numCompletedIndices": 2,
                    "numActiveStages": 0,
                    "numCompletedStages": 1,
                    "numSkippedStages": 2,
                    "numFailedStages": 0,
                    "killedTasksSummary": {}
                  },
                  {
                    "displayName": "count at BinaryClassificationMetrics.scala:197",
                    "dataWritten": 250,
                    "dataRead": 527,
                    "rowCount": 8,
                    "usageDescription": "",
                    "jobId": 201,
                    "name": "count at BinaryClassificationMetrics.scala:197",
                    "description": "Job group for statement 23:\n# Weighted Precision (Multiclass)\nevaluator_precision = MulticlassClassificationEvaluator(labelCol=\"label\", predictionCol=\"prediction\", metricName=\"weightedPrecision\")\nprecision = evaluator_precision.evaluate(predictions)\nprint(f\"Test Precision: {precision:.3f}\")\n\n# Weighted Recall (Multiclass)\nevaluator_recall = MulticlassClassificationEvaluator(labelCol=\"label\", predictionCol=\"prediction\", metricName=\"weightedRecall\")\nrecall = evaluator_recall.evaluate(predictions)\nprint(f\"Test Recall: {recall:.3f}\")\n\n# F1-Score (Multiclass)\nevaluator_f1 = MulticlassClassificationEvaluator(labelCol=\"label\", predictionCol=\"prediction\", metricName=\"f1\")\nf1_score = evaluator_f1.evaluate(predictions)\nprint(f\"Test F1-Score: {f1_score:.3f}\")\n\n# AUC-ROC (For Binary Classification, works for binary classification)\nevaluator_auc = BinaryClassificationEvaluator(labelCol=\"label\", rawPredictionCol=\"prediction\", metricName=\"areaUnderROC\")\nauc_roc = evaluator_auc.evaluate(predictions)\nprint(f\"Test AUC-ROC: {auc_roc:.3f}\")",
                    "submissionTime": "2024-12-10T02:17:32.423GMT",
                    "completionTime": "2024-12-10T02:17:32.464GMT",
                    "stageIds": [
                      383,
                      384,
                      382
                    ],
                    "jobGroup": "23",
                    "status": "SUCCEEDED",
                    "numTasks": 14,
                    "numActiveTasks": 0,
                    "numCompletedTasks": 8,
                    "numSkippedTasks": 6,
                    "numFailedTasks": 0,
                    "numKilledTasks": 0,
                    "numCompletedIndices": 8,
                    "numActiveStages": 0,
                    "numCompletedStages": 2,
                    "numSkippedStages": 1,
                    "numFailedStages": 0,
                    "killedTasksSummary": {}
                  },
                  {
                    "displayName": "sortByKey at BinaryClassificationMetrics.scala:189",
                    "dataWritten": 277,
                    "dataRead": 2976990,
                    "rowCount": 20008,
                    "usageDescription": "",
                    "jobId": 200,
                    "name": "sortByKey at BinaryClassificationMetrics.scala:189",
                    "description": "Job group for statement 23:\n# Weighted Precision (Multiclass)\nevaluator_precision = MulticlassClassificationEvaluator(labelCol=\"label\", predictionCol=\"prediction\", metricName=\"weightedPrecision\")\nprecision = evaluator_precision.evaluate(predictions)\nprint(f\"Test Precision: {precision:.3f}\")\n\n# Weighted Recall (Multiclass)\nevaluator_recall = MulticlassClassificationEvaluator(labelCol=\"label\", predictionCol=\"prediction\", metricName=\"weightedRecall\")\nrecall = evaluator_recall.evaluate(predictions)\nprint(f\"Test Recall: {recall:.3f}\")\n\n# F1-Score (Multiclass)\nevaluator_f1 = MulticlassClassificationEvaluator(labelCol=\"label\", predictionCol=\"prediction\", metricName=\"f1\")\nf1_score = evaluator_f1.evaluate(predictions)\nprint(f\"Test F1-Score: {f1_score:.3f}\")\n\n# AUC-ROC (For Binary Classification, works for binary classification)\nevaluator_auc = BinaryClassificationEvaluator(labelCol=\"label\", rawPredictionCol=\"prediction\", metricName=\"areaUnderROC\")\nauc_roc = evaluator_auc.evaluate(predictions)\nprint(f\"Test AUC-ROC: {auc_roc:.3f}\")",
                    "submissionTime": "2024-12-10T02:17:31.471GMT",
                    "completionTime": "2024-12-10T02:17:32.413GMT",
                    "stageIds": [
                      380,
                      381
                    ],
                    "jobGroup": "23",
                    "status": "SUCCEEDED",
                    "numTasks": 12,
                    "numActiveTasks": 0,
                    "numCompletedTasks": 12,
                    "numSkippedTasks": 0,
                    "numFailedTasks": 0,
                    "numKilledTasks": 0,
                    "numCompletedIndices": 12,
                    "numActiveStages": 0,
                    "numCompletedStages": 2,
                    "numSkippedStages": 0,
                    "numFailedStages": 0,
                    "killedTasksSummary": {}
                  },
                  {
                    "displayName": "collectAsMap at MulticlassMetrics.scala:61",
                    "dataWritten": 244,
                    "dataRead": 2976957,
                    "rowCount": 20008,
                    "usageDescription": "",
                    "jobId": 199,
                    "name": "collectAsMap at MulticlassMetrics.scala:61",
                    "description": "Job group for statement 23:\n# Weighted Precision (Multiclass)\nevaluator_precision = MulticlassClassificationEvaluator(labelCol=\"label\", predictionCol=\"prediction\", metricName=\"weightedPrecision\")\nprecision = evaluator_precision.evaluate(predictions)\nprint(f\"Test Precision: {precision:.3f}\")\n\n# Weighted Recall (Multiclass)\nevaluator_recall = MulticlassClassificationEvaluator(labelCol=\"label\", predictionCol=\"prediction\", metricName=\"weightedRecall\")\nrecall = evaluator_recall.evaluate(predictions)\nprint(f\"Test Recall: {recall:.3f}\")\n\n# F1-Score (Multiclass)\nevaluator_f1 = MulticlassClassificationEvaluator(labelCol=\"label\", predictionCol=\"prediction\", metricName=\"f1\")\nf1_score = evaluator_f1.evaluate(predictions)\nprint(f\"Test F1-Score: {f1_score:.3f}\")\n\n# AUC-ROC (For Binary Classification, works for binary classification)\nevaluator_auc = BinaryClassificationEvaluator(labelCol=\"label\", rawPredictionCol=\"prediction\", metricName=\"areaUnderROC\")\nauc_roc = evaluator_auc.evaluate(predictions)\nprint(f\"Test AUC-ROC: {auc_roc:.3f}\")",
                    "submissionTime": "2024-12-10T02:17:30.241GMT",
                    "completionTime": "2024-12-10T02:17:31.277GMT",
                    "stageIds": [
                      379,
                      378
                    ],
                    "jobGroup": "23",
                    "status": "SUCCEEDED",
                    "numTasks": 12,
                    "numActiveTasks": 0,
                    "numCompletedTasks": 12,
                    "numSkippedTasks": 0,
                    "numFailedTasks": 0,
                    "numKilledTasks": 0,
                    "numCompletedIndices": 12,
                    "numActiveStages": 0,
                    "numCompletedStages": 2,
                    "numSkippedStages": 0,
                    "numFailedStages": 0,
                    "killedTasksSummary": {}
                  },
                  {
                    "displayName": "collectAsMap at MulticlassMetrics.scala:61",
                    "dataWritten": 244,
                    "dataRead": 2976957,
                    "rowCount": 20008,
                    "usageDescription": "",
                    "jobId": 198,
                    "name": "collectAsMap at MulticlassMetrics.scala:61",
                    "description": "Job group for statement 23:\n# Weighted Precision (Multiclass)\nevaluator_precision = MulticlassClassificationEvaluator(labelCol=\"label\", predictionCol=\"prediction\", metricName=\"weightedPrecision\")\nprecision = evaluator_precision.evaluate(predictions)\nprint(f\"Test Precision: {precision:.3f}\")\n\n# Weighted Recall (Multiclass)\nevaluator_recall = MulticlassClassificationEvaluator(labelCol=\"label\", predictionCol=\"prediction\", metricName=\"weightedRecall\")\nrecall = evaluator_recall.evaluate(predictions)\nprint(f\"Test Recall: {recall:.3f}\")\n\n# F1-Score (Multiclass)\nevaluator_f1 = MulticlassClassificationEvaluator(labelCol=\"label\", predictionCol=\"prediction\", metricName=\"f1\")\nf1_score = evaluator_f1.evaluate(predictions)\nprint(f\"Test F1-Score: {f1_score:.3f}\")\n\n# AUC-ROC (For Binary Classification, works for binary classification)\nevaluator_auc = BinaryClassificationEvaluator(labelCol=\"label\", rawPredictionCol=\"prediction\", metricName=\"areaUnderROC\")\nauc_roc = evaluator_auc.evaluate(predictions)\nprint(f\"Test AUC-ROC: {auc_roc:.3f}\")",
                    "submissionTime": "2024-12-10T02:17:29.196GMT",
                    "completionTime": "2024-12-10T02:17:30.061GMT",
                    "stageIds": [
                      376,
                      377
                    ],
                    "jobGroup": "23",
                    "status": "SUCCEEDED",
                    "numTasks": 12,
                    "numActiveTasks": 0,
                    "numCompletedTasks": 12,
                    "numSkippedTasks": 0,
                    "numFailedTasks": 0,
                    "numKilledTasks": 0,
                    "numCompletedIndices": 12,
                    "numActiveStages": 0,
                    "numCompletedStages": 2,
                    "numSkippedStages": 0,
                    "numFailedStages": 0,
                    "killedTasksSummary": {}
                  },
                  {
                    "displayName": "collectAsMap at MulticlassMetrics.scala:61",
                    "dataWritten": 244,
                    "dataRead": 2976957,
                    "rowCount": 20008,
                    "usageDescription": "",
                    "jobId": 197,
                    "name": "collectAsMap at MulticlassMetrics.scala:61",
                    "description": "Job group for statement 23:\n# Weighted Precision (Multiclass)\nevaluator_precision = MulticlassClassificationEvaluator(labelCol=\"label\", predictionCol=\"prediction\", metricName=\"weightedPrecision\")\nprecision = evaluator_precision.evaluate(predictions)\nprint(f\"Test Precision: {precision:.3f}\")\n\n# Weighted Recall (Multiclass)\nevaluator_recall = MulticlassClassificationEvaluator(labelCol=\"label\", predictionCol=\"prediction\", metricName=\"weightedRecall\")\nrecall = evaluator_recall.evaluate(predictions)\nprint(f\"Test Recall: {recall:.3f}\")\n\n# F1-Score (Multiclass)\nevaluator_f1 = MulticlassClassificationEvaluator(labelCol=\"label\", predictionCol=\"prediction\", metricName=\"f1\")\nf1_score = evaluator_f1.evaluate(predictions)\nprint(f\"Test F1-Score: {f1_score:.3f}\")\n\n# AUC-ROC (For Binary Classification, works for binary classification)\nevaluator_auc = BinaryClassificationEvaluator(labelCol=\"label\", rawPredictionCol=\"prediction\", metricName=\"areaUnderROC\")\nauc_roc = evaluator_auc.evaluate(predictions)\nprint(f\"Test AUC-ROC: {auc_roc:.3f}\")",
                    "submissionTime": "2024-12-10T02:17:27.977GMT",
                    "completionTime": "2024-12-10T02:17:29.018GMT",
                    "stageIds": [
                      374,
                      375
                    ],
                    "jobGroup": "23",
                    "status": "SUCCEEDED",
                    "numTasks": 12,
                    "numActiveTasks": 0,
                    "numCompletedTasks": 12,
                    "numSkippedTasks": 0,
                    "numFailedTasks": 0,
                    "numKilledTasks": 0,
                    "numCompletedIndices": 12,
                    "numActiveStages": 0,
                    "numCompletedStages": 2,
                    "numSkippedStages": 0,
                    "numFailedStages": 0,
                    "killedTasksSummary": {}
                  }
                ],
                "limit": 20,
                "rule": "ALL_DESC"
              },
              "session_id": "65",
              "normalized_state": "finished",
              "queued_time": "2024-12-10T02:17:27.5998995Z",
              "session_start_time": null,
              "execution_start_time": "2024-12-10T02:17:27.7277976Z",
              "execution_finish_time": "2024-12-10T02:17:34.676793Z",
              "parent_msg_id": "2407ecab-8fff-4c51-a271-5b255f3eedca"
            },
            "text/plain": "StatementMeta(ba5e360d-f184-47a0-9859-76b5031b79e3, 65, 23, Finished, Available, Finished)"
          },
          "metadata": {}
        },
        {
          "output_type": "stream",
          "name": "stdout",
          "text": "Test Precision: 0.707\nTest Recall: 0.707\nTest F1-Score: 0.707\nTest AUC-ROC: 0.707\n"
        }
      ],
      "execution_count": 18,
      "metadata": {
        "jupyter": {
          "source_hidden": false,
          "outputs_hidden": false
        },
        "nteract": {
          "transient": {
            "deleting": false
          }
        },
        "gather": {
          "logged": 1733797054764
        }
      }
    },
    {
      "cell_type": "code",
      "source": [
        "import seaborn as sns\n",
        "import matplotlib.pyplot as plt\n",
        "import pandas as pd\n",
        "from matplotlib.colors import ListedColormap\n",
        "\n",
        "\n",
        "# Confusion Matrix (for Multiclass)\n",
        "# Create confusion matrix by grouping by label and prediction\n",
        "confusion_matrix = predictions.groupBy(\"label\", \"prediction\").count().toPandas()\n",
        "print(confusion_matrix)\n",
        "\n",
        "confusion_matrix['label'] = confusion_matrix['label'].replace({0: \"Cancer\", 1: \"Non-Cancer\"})\n",
        "confusion_matrix['prediction'] = confusion_matrix['prediction'].replace({0: \"Cancer\", 1: \"Non-Cancer\"})\n",
        "\n",
        "# Show the confusion matrix\n",
        "print(\"\\nConfusion Matrix:\")\n",
        "print(confusion_matrix)\n",
        "\n",
        "# Optionally, to display it as a matrix format:\n",
        "confusion_matrix_pivot = confusion_matrix.pivot(index=\"label\", columns=\"prediction\", values=\"count\").fillna(0)\n",
        "print(\"\\nConfusion Matrix (Pivoted):\")\n",
        "print(confusion_matrix_pivot)\n",
        "\n",
        "custom_colors = [\"#d40637\", \"#3d6469\"]\n",
        "cmap = ListedColormap(custom_colors)\n",
        "plt.figure(figsize=(8, 6))\n",
        "sns.heatmap(confusion_matrix_pivot, annot=True, fmt='g', cmap=cmap, cbar=True, linewidths=0.5)\n",
        "plt.title(\"Logistic Regression Confusion Matrix\")\n",
        "plt.xlabel(\"Predicted\")\n",
        "plt.ylabel(\"Actual\")\n",
        "plt.gcf().set_facecolor(\"#feeece\")  # Set figure background color\n",
        "plt.show()"
      ],
      "outputs": [
        {
          "output_type": "display_data",
          "data": {
            "application/vnd.livy.statement-meta+json": {
              "spark_pool": "ba5e360d-f184-47a0-9859-76b5031b79e3",
              "statement_id": 26,
              "statement_ids": [
                26
              ],
              "state": "finished",
              "livy_statement_state": "available",
              "spark_jobs": {
                "numbers": {
                  "RUNNING": 0,
                  "UNKNOWN": 0,
                  "SUCCEEDED": 2,
                  "FAILED": 0
                },
                "jobs": [
                  {
                    "displayName": "toPandas at /tmp/ipykernel_23753/1746389739.py:9",
                    "dataWritten": 0,
                    "dataRead": 252,
                    "rowCount": 4,
                    "usageDescription": "",
                    "jobId": 209,
                    "name": "toPandas at /tmp/ipykernel_23753/1746389739.py:9",
                    "description": "Job group for statement 26:\nimport seaborn as sns\nimport matplotlib.pyplot as plt\nimport pandas as pd\nfrom matplotlib.colors import ListedColormap\n\n\n# Confusion Matrix (for Multiclass)\n# Create confusion matrix by grouping by label and prediction\nconfusion_matrix = predictions.groupBy(\"label\", \"prediction\").count().toPandas()\nprint(confusion_matrix)\n\nconfusion_matrix['label'] = confusion_matrix['label'].replace({0: \"Cancer\", 1: \"Non-Cancer\"})\nconfusion_matrix['prediction'] = confusion_matrix['prediction'].replace({0: \"Cancer\", 1: \"Non-Cancer\"})\n\n# Show the confusion matrix\nprint(\"\nConfusion Matrix:\")\nprint(confusion_matrix)\n\n# Optionally, to display it as a matrix format:\nconfusion_matrix_pivot = confusion_matrix.pivot(index=\"label\", columns=\"prediction\", values=\"count\").fillna(0)\nprint(\"\nConfusion Matrix (Pivoted):\")\nprint(confusion_matrix_pivot)\n\ncustom_colors = [\"#d40637\", \"#3d6469\"]\ncmap = ListedColormap(custom_colors)\nplt.figure(figsize=(8, 6))\nsns.heatmap(confusion_matrix_pivot, annot=True, fmt='g', cmap=cmap, cbar=True, linewid...",
                    "submissionTime": "2024-12-10T02:22:00.435GMT",
                    "completionTime": "2024-12-10T02:22:00.531GMT",
                    "stageIds": [
                      398,
                      399
                    ],
                    "jobGroup": "26",
                    "status": "SUCCEEDED",
                    "numTasks": 7,
                    "numActiveTasks": 0,
                    "numCompletedTasks": 1,
                    "numSkippedTasks": 6,
                    "numFailedTasks": 0,
                    "numKilledTasks": 0,
                    "numCompletedIndices": 1,
                    "numActiveStages": 0,
                    "numCompletedStages": 1,
                    "numSkippedStages": 1,
                    "numFailedStages": 0,
                    "killedTasksSummary": {}
                  },
                  {
                    "displayName": "toPandas at /tmp/ipykernel_23753/1746389739.py:9",
                    "dataWritten": 252,
                    "dataRead": 2976713,
                    "rowCount": 20004,
                    "usageDescription": "",
                    "jobId": 208,
                    "name": "toPandas at /tmp/ipykernel_23753/1746389739.py:9",
                    "description": "Job group for statement 26:\nimport seaborn as sns\nimport matplotlib.pyplot as plt\nimport pandas as pd\nfrom matplotlib.colors import ListedColormap\n\n\n# Confusion Matrix (for Multiclass)\n# Create confusion matrix by grouping by label and prediction\nconfusion_matrix = predictions.groupBy(\"label\", \"prediction\").count().toPandas()\nprint(confusion_matrix)\n\nconfusion_matrix['label'] = confusion_matrix['label'].replace({0: \"Cancer\", 1: \"Non-Cancer\"})\nconfusion_matrix['prediction'] = confusion_matrix['prediction'].replace({0: \"Cancer\", 1: \"Non-Cancer\"})\n\n# Show the confusion matrix\nprint(\"\nConfusion Matrix:\")\nprint(confusion_matrix)\n\n# Optionally, to display it as a matrix format:\nconfusion_matrix_pivot = confusion_matrix.pivot(index=\"label\", columns=\"prediction\", values=\"count\").fillna(0)\nprint(\"\nConfusion Matrix (Pivoted):\")\nprint(confusion_matrix_pivot)\n\ncustom_colors = [\"#d40637\", \"#3d6469\"]\ncmap = ListedColormap(custom_colors)\nplt.figure(figsize=(8, 6))\nsns.heatmap(confusion_matrix_pivot, annot=True, fmt='g', cmap=cmap, cbar=True, linewid...",
                    "submissionTime": "2024-12-10T02:21:59.360GMT",
                    "completionTime": "2024-12-10T02:22:00.391GMT",
                    "stageIds": [
                      397
                    ],
                    "jobGroup": "26",
                    "status": "SUCCEEDED",
                    "numTasks": 6,
                    "numActiveTasks": 0,
                    "numCompletedTasks": 6,
                    "numSkippedTasks": 0,
                    "numFailedTasks": 0,
                    "numKilledTasks": 0,
                    "numCompletedIndices": 6,
                    "numActiveStages": 0,
                    "numCompletedStages": 1,
                    "numSkippedStages": 0,
                    "numFailedStages": 0,
                    "killedTasksSummary": {}
                  }
                ],
                "limit": 20,
                "rule": "ALL_DESC"
              },
              "session_id": "65",
              "normalized_state": "finished",
              "queued_time": "2024-12-10T02:21:58.1783221Z",
              "session_start_time": null,
              "execution_start_time": "2024-12-10T02:21:59.0041401Z",
              "execution_finish_time": "2024-12-10T02:22:01.4490372Z",
              "parent_msg_id": "ed0fe37f-c324-433f-9eb7-d22ee0693c61"
            },
            "text/plain": "StatementMeta(ba5e360d-f184-47a0-9859-76b5031b79e3, 65, 26, Finished, Available, Finished)"
          },
          "metadata": {}
        },
        {
          "output_type": "stream",
          "name": "stdout",
          "text": "   label  prediction  count\n0    0.0         1.0    581\n1    0.0         0.0   1374\n2    1.0         1.0   1434\n3    1.0         0.0    584\n\nConfusion Matrix:\n        label  prediction  count\n0      Cancer  Non-Cancer    581\n1      Cancer      Cancer   1374\n2  Non-Cancer  Non-Cancer   1434\n3  Non-Cancer      Cancer    584\n\nConfusion Matrix (Pivoted):\nprediction  Cancer  Non-Cancer\nlabel                         \nCancer        1374         581\nNon-Cancer     584        1434\n"
        },
        {
          "output_type": "display_data",
          "data": {
            "text/plain": "<Figure size 800x600 with 2 Axes>",
            "image/png": "[encoded data removed]"
          },
          "metadata": {}
        }
      ],
      "execution_count": 21,
      "metadata": {
        "jupyter": {
          "source_hidden": false,
          "outputs_hidden": false
        },
        "nteract": {
          "transient": {
            "deleting": false
          }
        },
        "gather": {
          "logged": 1733797321525
        }
      }
    }
  ],
  "metadata": {
    "kernelspec": {
      "name": "synapse_pyspark",
      "language": "Python",
      "display_name": "Synapse PySpark"
    },
    "language_info": {
      "name": "python",
      "version": "3.8.0",
      "mimetype": "text/x-python",
      "file_extension": ".py",
      "pygments_lexer": "ipython",
      "codemirror_mode": "ipython",
      "nbconvert_exporter": "python"
    },
    "microsoft": {
      "ms_spell_check": {
        "ms_spell_check_language": "en"
      },
      "host": {
        "AzureML": {
          "notebookHasBeenCompleted": true
        }
      }
    },
    "kernel_info": {
      "name": "synapse_pyspark"
    },
    "nteract": {
      "version": "nteract-front-end@1.0.0"
    }
  },
  "nbformat": 4,
  "nbformat_minor": 2
}